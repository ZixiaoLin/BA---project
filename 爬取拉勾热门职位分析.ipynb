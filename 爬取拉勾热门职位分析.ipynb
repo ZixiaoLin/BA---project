{
 "cells": [
  {
   "cell_type": "markdown",
   "metadata": {},
   "source": [
    "# 爬取拉勾热门职位分析"
   ]
  },
  {
   "cell_type": "markdown",
   "metadata": {},
   "source": [
    "## 任务说明"
   ]
  },
  {
   "cell_type": "markdown",
   "metadata": {},
   "source": [
    "这一周，你的任务是从拉勾网上，选择自己最感兴趣的职位，获取相关数据并进行分析：\n",
    "\n",
    "• 这个岗位的薪酬情况是怎样的？ \n",
    "\n",
    "• 企业对该岗位的工作经验、学历要求是怎样的？\n",
    "\n",
    "• 目前招募该岗位的都是哪些类型的企业？（融资阶段、公司规模、行业领域）"
   ]
  },
  {
   "cell_type": "markdown",
   "metadata": {},
   "source": [
    "## 代码实现"
   ]
  },
  {
   "cell_type": "code",
   "execution_count": 1,
   "metadata": {},
   "outputs": [],
   "source": [
    "import pandas as pd\n",
    "import numpy as np\n",
    "import matplotlib.pyplot as plt\n",
    "import seaborn as sns\n",
    "\n",
    "%matplotlib inline"
   ]
  },
  {
   "cell_type": "code",
   "execution_count": 36,
   "metadata": {},
   "outputs": [],
   "source": [
    "lagou = pd.read_csv('lagou.csv')"
   ]
  },
  {
   "cell_type": "markdown",
   "metadata": {},
   "source": [
    "### 数据概览 / EDA"
   ]
  },
  {
   "cell_type": "code",
   "execution_count": 37,
   "metadata": {},
   "outputs": [
    {
     "data": {
      "text/html": [
       "<div>\n",
       "<style scoped>\n",
       "    .dataframe tbody tr th:only-of-type {\n",
       "        vertical-align: middle;\n",
       "    }\n",
       "\n",
       "    .dataframe tbody tr th {\n",
       "        vertical-align: top;\n",
       "    }\n",
       "\n",
       "    .dataframe thead th {\n",
       "        text-align: right;\n",
       "    }\n",
       "</style>\n",
       "<table border=\"1\" class=\"dataframe\">\n",
       "  <thead>\n",
       "    <tr style=\"text-align: right;\">\n",
       "      <th></th>\n",
       "      <th>web-scraper-order</th>\n",
       "      <th>web-scraper-start-url</th>\n",
       "      <th>name</th>\n",
       "      <th>address</th>\n",
       "      <th>company</th>\n",
       "      <th>companytype</th>\n",
       "      <th>salary</th>\n",
       "      <th>job</th>\n",
       "      <th>welfare</th>\n",
       "    </tr>\n",
       "  </thead>\n",
       "  <tbody>\n",
       "    <tr>\n",
       "      <th>0</th>\n",
       "      <td>1602576449-459</td>\n",
       "      <td>https://www.lagou.com/zhaopin/shujuchanpinjing...</td>\n",
       "      <td>2631MH-数据产品经理（企业大数据）</td>\n",
       "      <td>上海·浦东新…</td>\n",
       "      <td>平安租赁</td>\n",
       "      <td>金融 / 不需要融资 / 500-2000人</td>\n",
       "      <td>15k-25k\\n                                    经...</td>\n",
       "      <td>投资/融资</td>\n",
       "      <td>“五险一金,节日福利,定期体检,免费班车”</td>\n",
       "    </tr>\n",
       "    <tr>\n",
       "      <th>1</th>\n",
       "      <td>1602576444-425</td>\n",
       "      <td>https://www.lagou.com/zhaopin/shujuchanpinjing...</td>\n",
       "      <td>数据产品经理（底层数据治理）</td>\n",
       "      <td>北京·酒仙桥</td>\n",
       "      <td>聚云数字</td>\n",
       "      <td>广告营销 / 未融资 / 50-150人</td>\n",
       "      <td>20k-40k\\n                                    经...</td>\n",
       "      <td>广告营销</td>\n",
       "      <td>“13薪 免费午餐 周末双休”</td>\n",
       "    </tr>\n",
       "    <tr>\n",
       "      <th>2</th>\n",
       "      <td>1602576454-490</td>\n",
       "      <td>https://www.lagou.com/zhaopin/shujuchanpinjing...</td>\n",
       "      <td>数据产品经理</td>\n",
       "      <td>北京·亦庄</td>\n",
       "      <td>中企动力</td>\n",
       "      <td>电商,移动互联网 / 上市公司 / 2000人以上</td>\n",
       "      <td>20k-30k\\n                                    经...</td>\n",
       "      <td>电商</td>\n",
       "      <td>“五险一金，带薪年假，大牛带队，绩效奖金”</td>\n",
       "    </tr>\n",
       "    <tr>\n",
       "      <th>3</th>\n",
       "      <td>1602576457-508</td>\n",
       "      <td>https://www.lagou.com/zhaopin/shujuchanpinjing...</td>\n",
       "      <td>1231GX-大数据产品经理</td>\n",
       "      <td>上海·唐镇</td>\n",
       "      <td>平安金服</td>\n",
       "      <td>金融 / 上市公司 / 2000人以上</td>\n",
       "      <td>15k-25k\\n                                    经...</td>\n",
       "      <td>大数据</td>\n",
       "      <td>“五险一金,年底双薪,绩效奖金,高温补贴”</td>\n",
       "    </tr>\n",
       "    <tr>\n",
       "      <th>4</th>\n",
       "      <td>1602576481-637</td>\n",
       "      <td>https://www.lagou.com/zhaopin/shujuchanpinjing...</td>\n",
       "      <td>产品经理（数据方向）</td>\n",
       "      <td>北京·望京</td>\n",
       "      <td>猿辅导</td>\n",
       "      <td>移动互联网,教育 / D轮及以上 / 2000人以上</td>\n",
       "      <td>20k-40k\\n                                    经...</td>\n",
       "      <td>数据</td>\n",
       "      <td>“六险一金，独角兽企业，扁平管理。”</td>\n",
       "    </tr>\n",
       "  </tbody>\n",
       "</table>\n",
       "</div>"
      ],
      "text/plain": [
       "  web-scraper-order                              web-scraper-start-url  \\\n",
       "0    1602576449-459  https://www.lagou.com/zhaopin/shujuchanpinjing...   \n",
       "1    1602576444-425  https://www.lagou.com/zhaopin/shujuchanpinjing...   \n",
       "2    1602576454-490  https://www.lagou.com/zhaopin/shujuchanpinjing...   \n",
       "3    1602576457-508  https://www.lagou.com/zhaopin/shujuchanpinjing...   \n",
       "4    1602576481-637  https://www.lagou.com/zhaopin/shujuchanpinjing...   \n",
       "\n",
       "                   name  address company                 companytype  \\\n",
       "0  2631MH-数据产品经理（企业大数据）  上海·浦东新…    平安租赁      金融 / 不需要融资 / 500-2000人   \n",
       "1        数据产品经理（底层数据治理）   北京·酒仙桥    聚云数字        广告营销 / 未融资 / 50-150人   \n",
       "2                数据产品经理    北京·亦庄    中企动力   电商,移动互联网 / 上市公司 / 2000人以上   \n",
       "3        1231GX-大数据产品经理    上海·唐镇    平安金服         金融 / 上市公司 / 2000人以上   \n",
       "4            产品经理（数据方向）    北京·望京     猿辅导  移动互联网,教育 / D轮及以上 / 2000人以上   \n",
       "\n",
       "                                              salary    job  \\\n",
       "0  15k-25k\\n                                    经...  投资/融资   \n",
       "1  20k-40k\\n                                    经...   广告营销   \n",
       "2  20k-30k\\n                                    经...     电商   \n",
       "3  15k-25k\\n                                    经...    大数据   \n",
       "4  20k-40k\\n                                    经...     数据   \n",
       "\n",
       "                 welfare  \n",
       "0  “五险一金,节日福利,定期体检,免费班车”  \n",
       "1        “13薪 免费午餐 周末双休”  \n",
       "2  “五险一金，带薪年假，大牛带队，绩效奖金”  \n",
       "3  “五险一金,年底双薪,绩效奖金,高温补贴”  \n",
       "4     “六险一金，独角兽企业，扁平管理。”  "
      ]
     },
     "execution_count": 37,
     "metadata": {},
     "output_type": "execute_result"
    }
   ],
   "source": [
    "lagou.head()"
   ]
  },
  {
   "cell_type": "markdown",
   "metadata": {},
   "source": [
    "- name： 职位名称\n",
    "- address： 企业地址\n",
    "- company： 企业名称\n",
    "- companytype： 企业类型\n",
    "- salary： 薪资\n",
    "- job： 职位分类\n",
    "- welfare： 企业福利"
   ]
  },
  {
   "cell_type": "code",
   "execution_count": 38,
   "metadata": {},
   "outputs": [],
   "source": [
    "# 除去前两列不需要的数据\n",
    "lagou = lagou.drop(['web-scraper-order','web-scraper-start-url'],axis =1)"
   ]
  },
  {
   "cell_type": "code",
   "execution_count": 171,
   "metadata": {},
   "outputs": [
    {
     "data": {
      "text/plain": [
       "数据产品经理                     93\n",
       "大数据产品经理                    11\n",
       "高级数据产品经理                   10\n",
       "产品经理（数据方向）                  4\n",
       "产品经理（大数据）                   4\n",
       "                           ..\n",
       "数据产品经理（杭州） (MJ000537)       1\n",
       "数据产品产品经理                    1\n",
       "数据产品经理 (MJ001043)           1\n",
       "产品经理（大数据/私有云/区块链/公有云产品）     1\n",
       "1131BP-资深产品经理-云平台/数据产品      1\n",
       "Name: name, Length: 136, dtype: int64"
      ]
     },
     "execution_count": 171,
     "metadata": {},
     "output_type": "execute_result"
    }
   ],
   "source": [
    "# 查看各个字段中的数据情况\n",
    "lagou.name.value_counts()"
   ]
  },
  {
   "cell_type": "markdown",
   "metadata": {},
   "source": [
    "- 我们提取的是产品经理方向的职位，数据表中大部分职位都为数据产品经理"
   ]
  },
  {
   "cell_type": "code",
   "execution_count": 40,
   "metadata": {},
   "outputs": [
    {
     "data": {
      "text/plain": [
       "array(['15k-25k\\n                                    经验5-10年 / 本科',\n",
       "       '20k-40k\\n                                    经验不限 / 本科',\n",
       "       '20k-30k\\n                                    经验3-5年 / 本科',\n",
       "       '15k-25k\\n                                    经验1-3年 / 本科',\n",
       "       '20k-40k\\n                                    经验3-5年 / 不限',\n",
       "       '20k-40k\\n                                    经验不限 / 不限',\n",
       "       '15k-30k\\n                                    经验3-5年 / 本科',\n",
       "       '17k-22k\\n                                    经验3-5年 / 本科',\n",
       "       '14k-20k\\n                                    经验3-5年 / 本科',\n",
       "       '20k-40k\\n                                    经验3-5年 / 本科',\n",
       "       '15k-25k\\n                                    经验3-5年 / 本科',\n",
       "       '25k-34k\\n                                    经验5-10年 / 本科',\n",
       "       '20k-35k\\n                                    经验3-5年 / 本科',\n",
       "       '20k-40k\\n                                    经验5-10年 / 本科',\n",
       "       '12k-20k\\n                                    经验1-3年 / 本科',\n",
       "       '18k-35k\\n                                    经验5-10年 / 本科',\n",
       "       '12k-20k\\n                                    经验3-5年 / 本科',\n",
       "       '15k-30k\\n                                    经验5-10年 / 本科',\n",
       "       '35k-50k\\n                                    经验5-10年 / 本科',\n",
       "       '25k-50k\\n                                    经验3-5年 / 本科',\n",
       "       '25k-40k\\n                                    经验3-5年 / 本科',\n",
       "       '18k-30k\\n                                    经验5-10年 / 本科',\n",
       "       '10k-18k\\n                                    经验3-5年 / 本科',\n",
       "       '12k-22k\\n                                    经验在校/应届 / 本科',\n",
       "       '11k-18k\\n                                    经验1-3年 / 本科',\n",
       "       '30k-45k\\n                                    经验5-10年 / 本科',\n",
       "       '10k-18k\\n                                    经验1-3年 / 本科',\n",
       "       '25k-40k\\n                                    经验5-10年 / 本科',\n",
       "       '18k-30k\\n                                    经验1-3年 / 本科',\n",
       "       '10k-15k\\n                                    经验3-5年 / 本科',\n",
       "       '20k-25k\\n                                    经验3-5年 / 本科',\n",
       "       '10k-15k\\n                                    经验5-10年 / 本科',\n",
       "       '15k-30k\\n                                    经验1-3年 / 本科',\n",
       "       '15k-30k\\n                                    经验不限 / 本科',\n",
       "       '18k-35k\\n                                    经验不限 / 本科',\n",
       "       '20k-30k\\n                                    经验5-10年 / 本科',\n",
       "       '15k-30k\\n                                    经验3-5年 / 不限',\n",
       "       '18k-28k\\n                                    经验3-5年 / 本科',\n",
       "       '30k-50k\\n                                    经验3-5年 / 本科',\n",
       "       '35k-40k\\n                                    经验3-5年 / 本科',\n",
       "       '18k-35k\\n                                    经验5-10年 / 大专',\n",
       "       '8k-15k\\n                                    经验1-3年 / 本科',\n",
       "       '30k-50k\\n                                    经验5-10年 / 本科',\n",
       "       '25k-35k\\n                                    经验3-5年 / 本科',\n",
       "       '10k-15k\\n                                    经验1-3年 / 本科',\n",
       "       '9k-15k\\n                                    经验1-3年 / 本科',\n",
       "       '22k-35k\\n                                    经验3-5年 / 本科',\n",
       "       '7k-14k\\n                                    经验不限 / 本科',\n",
       "       '30k-55k\\n                                    经验10年以上 / 本科',\n",
       "       '30k-45k\\n                                    经验3-5年 / 本科',\n",
       "       '20k-35k\\n                                    经验5-10年 / 本科',\n",
       "       '25k-40k\\n                                    经验不限 / 本科',\n",
       "       '13k-25k\\n                                    经验1-3年 / 本科',\n",
       "       '13k-25k\\n                                    经验3-5年 / 本科',\n",
       "       '18k-35k\\n                                    经验3-5年 / 本科',\n",
       "       '25k-35k\\n                                    经验5-10年 / 本科',\n",
       "       '10k-20k\\n                                    经验3-5年 / 本科',\n",
       "       '4k-6k\\n                                    经验在校/应届 / 本科',\n",
       "       '18k-30k\\n                                    经验3-5年 / 硕士',\n",
       "       '6k-12k\\n                                    经验不限 / 本科',\n",
       "       '8k-14k\\n                                    经验3-5年 / 本科',\n",
       "       '8k-15k\\n                                    经验3-5年 / 本科',\n",
       "       '8k-16k\\n                                    经验1-3年 / 本科',\n",
       "       '18k-36k\\n                                    经验不限 / 本科',\n",
       "       '25k-50k\\n                                    经验5-10年 / 本科',\n",
       "       '20k-30k\\n                                    经验1-3年 / 本科',\n",
       "       '25k-35k\\n                                    经验不限 / 本科',\n",
       "       '15k-25k\\n                                    经验不限 / 本科',\n",
       "       '15k-20k\\n                                    经验1-3年 / 本科',\n",
       "       '14k-28k\\n                                    经验3-5年 / 本科',\n",
       "       '16k-32k\\n                                    经验1-3年 / 大专',\n",
       "       '2k-3k\\n                                    经验在校/应届 / 本科',\n",
       "       '25k-30k\\n                                    经验5-10年 / 本科',\n",
       "       '16k-30k\\n                                    经验3-5年 / 本科',\n",
       "       '20k-40k\\n                                    经验1-3年 / 本科',\n",
       "       '16k-32k\\n                                    经验3-5年 / 本科',\n",
       "       '25k-45k\\n                                    经验3-5年 / 本科',\n",
       "       '15k-22k\\n                                    经验5-10年 / 大专',\n",
       "       '18k-25k\\n                                    经验1-3年 / 本科',\n",
       "       '8k-10k\\n                                    经验在校/应届 / 本科',\n",
       "       '40k-60k\\n                                    经验3-5年 / 本科',\n",
       "       '20k-40k\\n                                    经验不限 / 硕士',\n",
       "       '11k-22k\\n                                    经验3-5年 / 本科',\n",
       "       '12k-20k\\n                                    经验5-10年 / 本科',\n",
       "       '20k-30k\\n                                    经验3-5年 / 不限',\n",
       "       '25k-45k\\n                                    经验5-10年 / 本科',\n",
       "       '11k-20k\\n                                    经验3-5年 / 本科',\n",
       "       '30k-40k\\n                                    经验5-10年 / 不限',\n",
       "       '12k-18k\\n                                    经验3-5年 / 本科',\n",
       "       '16k-32k\\n                                    经验1-3年 / 本科',\n",
       "       '35k-50k\\n                                    经验1-3年 / 本科',\n",
       "       '15k-20k\\n                                    经验3-5年 / 本科',\n",
       "       '15k-25k\\n                                    经验5-10年 / 大专',\n",
       "       '20k-35k\\n                                    经验1-3年 / 本科',\n",
       "       '30k-50k\\n                                    经验5-10年 / 不限',\n",
       "       '10k-20k\\n                                    经验在校/应届 / 本科',\n",
       "       '12k-16k\\n                                    经验3-5年 / 本科',\n",
       "       '15k-30k\\n                                    经验3-5年 / 硕士',\n",
       "       '13k-20k\\n                                    经验3-5年 / 本科',\n",
       "       '46k-60k\\n                                    经验5-10年 / 本科'],\n",
       "      dtype=object)"
      ]
     },
     "execution_count": 40,
     "metadata": {},
     "output_type": "execute_result"
    }
   ],
   "source": [
    "lagou.salary.unique()"
   ]
  },
  {
   "cell_type": "markdown",
   "metadata": {},
   "source": [
    "- 我们发现，salary中不仅包含了工资情况，还包含了职位要求\n",
    "- 通过split()函数将这两个变量分开"
   ]
  },
  {
   "cell_type": "code",
   "execution_count": 43,
   "metadata": {},
   "outputs": [],
   "source": [
    "lagou['wage'] = lagou.salary.str.split('\\n').str[0]\n",
    "lagou['requirement'] = lagou.salary.str.split('\\n').str[1]"
   ]
  },
  {
   "cell_type": "code",
   "execution_count": 121,
   "metadata": {},
   "outputs": [],
   "source": [
    "# 去掉原先的salary列\n",
    "lagou = lagou.drop('salary',axis = 1)"
   ]
  },
  {
   "cell_type": "markdown",
   "metadata": {},
   "source": [
    "- address中包含了城市和区域两个元素，我们使用split将我们需要的城市信息拆出来"
   ]
  },
  {
   "cell_type": "code",
   "execution_count": 48,
   "metadata": {},
   "outputs": [],
   "source": [
    "lagou['city'] = lagou.address.str.split('·').str[0]"
   ]
  },
  {
   "cell_type": "code",
   "execution_count": 53,
   "metadata": {},
   "outputs": [],
   "source": [
    "lagou = lagou.drop('address',axis=1)"
   ]
  },
  {
   "cell_type": "markdown",
   "metadata": {},
   "source": [
    "- companytype中包含了企业规模，融资阶段，行业领域三个元素，同理将其拆分"
   ]
  },
  {
   "cell_type": "code",
   "execution_count": 55,
   "metadata": {},
   "outputs": [],
   "source": [
    "lagou['companysize'] = lagou.companytype.str.split('/').str[2]\n",
    "lagou['companyfinance'] = lagou.companytype.str.split('/').str[1]\n",
    "lagou['companyfield'] = lagou.companytype.str.split('/').str[0]"
   ]
  },
  {
   "cell_type": "code",
   "execution_count": 61,
   "metadata": {},
   "outputs": [],
   "source": [
    "lagou = lagou.drop('companytype', axis = 1)"
   ]
  },
  {
   "cell_type": "code",
   "execution_count": 57,
   "metadata": {},
   "outputs": [
    {
     "data": {
      "text/plain": [
       "array([' 500-2000人', ' 50-150人', ' 2000人以上', ' 150-500人', ' 15-50人'],\n",
       "      dtype=object)"
      ]
     },
     "execution_count": 57,
     "metadata": {},
     "output_type": "execute_result"
    }
   ],
   "source": [
    "lagou.companysize.unique()"
   ]
  },
  {
   "cell_type": "markdown",
   "metadata": {},
   "source": [
    "- 企业规模分为15-50，50-150，150-500，500-2000以及2000以上"
   ]
  },
  {
   "cell_type": "code",
   "execution_count": 106,
   "metadata": {},
   "outputs": [],
   "source": [
    "# 将companysize中的单位去除\n",
    "lagou.companysize = lagou.companysize.apply(lambda x: x.strip('人'))\n",
    "lagou.companysize = lagou.companysize.replace(' 2000人以上','>2000')"
   ]
  },
  {
   "cell_type": "code",
   "execution_count": 107,
   "metadata": {},
   "outputs": [
    {
     "data": {
      "text/plain": [
       "array([' 500-2000', ' 50-150', '>2000', ' 150-500', ' 15-50'],\n",
       "      dtype=object)"
      ]
     },
     "execution_count": 107,
     "metadata": {},
     "output_type": "execute_result"
    }
   ],
   "source": [
    "lagou.companysize.unique()"
   ]
  },
  {
   "cell_type": "code",
   "execution_count": 58,
   "metadata": {},
   "outputs": [
    {
     "data": {
      "text/plain": [
       "array([' 不需要融资 ', ' 未融资 ', ' 上市公司 ', ' D轮及以上 ', ' A轮 ', ' B轮 ', ' C轮 ',\n",
       "       ' 天使轮 '], dtype=object)"
      ]
     },
     "execution_count": 58,
     "metadata": {},
     "output_type": "execute_result"
    }
   ],
   "source": [
    "lagou.companyfinance.unique()"
   ]
  },
  {
   "cell_type": "code",
   "execution_count": 59,
   "metadata": {},
   "outputs": [
    {
     "data": {
      "text/plain": [
       "array(['金融 ', '广告营销 ', '电商,移动互联网 ', '移动互联网,教育 ', '消费生活 ', '软件开发 ',\n",
       "       '数据服务 ', '文娱丨内容 ', '社交 ', '其他 ', '金融,软件开发 ', '软件开发,数据服务 ',\n",
       "       '移动互联网,消费生活 ', '电商 ', '企业服务 ', '企业服务,软件开发 ', '移动互联网 ', '房产家居 ',\n",
       "       '移动互联网,电商 ', '汽车丨出行 ', '企业服务,物联网 ', '移动互联网,文娱丨内容 ', '游戏 ',\n",
       "       '企业服务、教育 ', '移动互联网,医疗丨健康 ', '数据服务,广告营销 ', '移动互联网,金融 ', '移动互联网,社交 ',\n",
       "       '电商,文娱丨内容 ', '移动互联网,企业服务 ', '电商,消费生活 ', '旅游 ', '移动互联网,房产家居 ',\n",
       "       '教育 ', '工具 ', '社交,文娱丨内容 ', '电商,软件开发 ', '企业服务,消费生活 ', '电商,金融 ',\n",
       "       '不限 ', '人工智能 ', '硬件,人工智能 ', '数据服务,软件开发 ', '金融,电商 ', '数据服务,人工智能 ',\n",
       "       '数据服务,企业服务 ', '移动互联网,数据服务 ', '企业服务,广告营销 ', '企业服务,数据服务 ', '硬件 ',\n",
       "       '数据服务,信息安全 ', '电商,数据服务 ', '文娱丨内容,硬件 ', '教育,移动互联网 ', '金融,消费生活 ',\n",
       "       '数据服务,硬件 ', '医疗丨健康,移动互联网 ', '移动互联网,物联网 ', '电商,房产家居 ',\n",
       "       '数据服务,移动互联网 ', '金融,教育 ', '移动互联网,其他 ', '物联网 ', '游戏,移动互联网 ',\n",
       "       '移动互联网,游戏 '], dtype=object)"
      ]
     },
     "execution_count": 59,
     "metadata": {},
     "output_type": "execute_result"
    }
   ],
   "source": [
    "lagou.companyfield.unique()"
   ]
  },
  {
   "cell_type": "code",
   "execution_count": 62,
   "metadata": {},
   "outputs": [
    {
     "data": {
      "text/plain": [
       "array(['“五险一金,节日福利,定期体检,免费班车”', '“13薪 免费午餐 周末双休”',\n",
       "       '“五险一金，带薪年假，大牛带队，绩效奖金”', '“五险一金,年底双薪,绩效奖金,高温补贴”',\n",
       "       '“六险一金，独角兽企业，扁平管理。”', '“发展前景”', '“发展空间大，产品驱动型公司”',\n",
       "       '“五险一金,带薪年假,节日福利,周末双休”', '“扁平管理、三餐免费六险一金”',\n",
       "       '“大平台,好学习发展,特色文化,全面福利”', '“五险一金,绩效奖金,带薪年假,定期体检”', '“福利多多”',\n",
       "       '“弹性工作制，工作地点近地铁”', '“金融科技数据产品设计是数字化时代的风口”', '“弹性上下班、餐补、通讯补贴”',\n",
       "       '“上市公司 福利待遇好 发展前景好”', '“团队氛围好、平台巨大、空间无限”',\n",
       "       '“13~17薪 年轻团队 大平台 发展好 技术成长”', '“大牛团队 办公环境好”',\n",
       "       '“团队年轻 领导nice 世界500强”', '“互联网广告行业龙头”', '“六险一金；节假日福利；旅游基金；各种团建”',\n",
       "       '“上市公司”', '“腾讯系 中台系统 数据中台”', '“六险一金 绩效奖金 年度调薪 年度晋升”', '“大平台”',\n",
       "       '“五险一金，双休，”', '“六险一金，弹性工作，免费三餐，餐补”', '“六险一金,股票期权,弹性工作,免费三餐”',\n",
       "       '“发展空间大、带薪年假、扁平管理等”', '“奖金多,股票期权,团队好,领导好”', '“弹性工作”',\n",
       "       '“全勤奖、餐补、双薪、五险一金”', '“平台发展 周末双休 年终奖金”', '“弹性工作精英团队大数据平台,福利待遇好”',\n",
       "       '“六险一金、弹性工作、年度体检、成长空间大”', '“包三餐、免费班车、交补餐补话补、节日福利”',\n",
       "       '“福利待遇好 发展空间大”', '“平台稳定；福利多多；氛围轻松；爱心假日”', '“技术open，领导nice，氛围轻松”',\n",
       "       '“六险一金，弹性工作，免费三餐，扁平管理”', '“数据可视化,大数据应用”', '“成熟团队,上升空间”',\n",
       "       '“定期体检 上市公司 发展空间大 公司规模大”', '“六险一金,弹性工作,免费三餐,租房补贴”',\n",
       "       '“五险一金、周末双休、前景可期”', '“牛人多 班车 环境好 双休”', '“福利完善、弹性工作制”',\n",
       "       '“带薪年假 下午茶 股票期权 包午餐/晚餐”', '“带薪年假，团队聚餐，有年终奖”', '“公司大牛多 办公环境好”',\n",
       "       '“五险一金 餐补 弹性工作时间”', '“超多年假 年终奖 免费零食 做五休二”', '“平台大，待遇好”',\n",
       "       '“健身房；餐补；免费咖啡”', '“带薪年假 个人发展 海外旅游福利”', '“发展空间大,创新项目”', '“优秀团队”',\n",
       "       '“大厂”', '“独角兽企业；国际化企业；D+轮融资；舒适”', '“五险一金，年终奖，带薪年假”',\n",
       "       '“世界500强 平台好 氛围好 互联网金融”', '“高薪资,平台好,潜力大,氛围浓”', '“上市公司，福利待遇好”',\n",
       "       '“包三餐 有班车”', '“boss直招 加班少 氛围好”', '“发展空间大，福利多、领导好”', '“公司发展前景好”',\n",
       "       '“五险一金 独角兽企业 不加班。弹性工作。”', '“独角兽 人工智能 大咖云集”',\n",
       "       '“不提倡加班的互联网公司，无996文化”', '“发展潜力大；薪资福利好”', '“年底三薪，三餐免费，内部机会多，年假多”',\n",
       "       '“带薪年假、扁平管理、不打卡”', '“业务稳步成长中，有个人较好的发展空间”', '“国企平台、五险一金、年轻团队”',\n",
       "       '“高成长”', '“超高速发展的在线教育公司！”', '“独角兽 国际支付 跨境电商”', '“七险一金 扁平化管理 技术大牛”',\n",
       "       '“个人发展”', '“好”', '“包三餐 年度体检 高比例公积金”', '“大数据 行业领导者、周五7小时”',\n",
       "       '“团队nice、福利齐全、丰富假期”', '“七险一金,午餐补助,14薪”', '“五险一金”', '“数据方向”',\n",
       "       '“阿里大牛、零售大数据”', '“七险一金，免费三餐，绩效奖金，弹性工作”', '“五险一金,餐补,班车,团队氛围好”',\n",
       "       '“年终奖、餐补、弹性工作等”', '“五险一金 股权激励 上市公司”', '“上市大数据公司、发展前景可观”', '“交通便利”',\n",
       "       '“实力央企、前景广阔”', '“年终奖金 五险一金 通讯津贴 发展空间大”', '“成长空间大、扁平管理”',\n",
       "       '“六险一金，弹性工作，免费三餐，租房补贴”', '“短视频行业，海外市场”', '“六险一金 住房补贴 免费晚餐”',\n",
       "       '“季度奖金,年度奖金,双休”', '“数字化营销，不996，不宫斗，市中心黄埔工作”', '“央企背景，财税大蓝海”',\n",
       "       '“团队实力”', '“五险一金,绩效奖金,带薪年假,节日福利”', '“工作氛围棒 快速发展 平台大 企业文化好”',\n",
       "       '“五险一金、补充医疗”', '“多次调薪，发展巨大”', '“阿里平台,年底双薪”', '“五险一金,带薪年假,节日福利”',\n",
       "       '“股份制银行”', '“晋升空间，上市公司，扁平管理”', '“发展空间大，团队大，公司业务稳健”',\n",
       "       '“发展潜力大，丰富落地场景，团队氛围好”', '“周末双休,薪酬待遇优,带薪年假”', '“核心组”', '“高薪”',\n",
       "       '“国有企业、五险一金、周末双休、年轻团队”', '“平台好,发展空间大,团队氛围好,福利好”',\n",
       "       '“专业产品团队，强大的技术支撑”', '“准独角兽、有上市计划，期权可待”', '“高薪大平台、晋升机会多，团队氛围佳”',\n",
       "       '“发展前景好”', '“福利待遇优厚，发展前景广阔”', '“平台大 发展好”', '“高福利待遇，周围都是大牛”',\n",
       "       '“六险一金 双休”', '“高薪+大平台”', '“外企氛围，蓝海市场，大牛多多，15天年假”',\n",
       "       '“战略业务 丰厚收入 完善福利 多项目并行”', '“三餐，七险一金，大平台”',\n",
       "       '“弹性上下班 晋升空间 六险一金 带薪年假”', '“六险一金，高薪期权，弹性工作，免费三餐”',\n",
       "       '“世界21强 双休 下午茶”', '“上市公司、六险一金、商业团队”', '“双休 大平台 发展空间大”',\n",
       "       '“领导逗比,氛围欢乐,扁平结构,绩效奖金”', '“六险一金 交通便利 补助补贴”', '“机遇多”',\n",
       "       '“节日礼品、绩效奖金1~4个月、股权激励”', '“绩效奖金 激励股票 前景好 发展空间广阔”',\n",
       "       '“六险一金，团建活动，零食花茶”', '“可获得实习证明和优秀团队的锻炼经验”', '“大平台 年终奖金”',\n",
       "       '“丰厚薪资、团队氛围优”', '“带薪病假；带薪年假；六险一金；团建基金”', '“发展前景大，福利待遇好”',\n",
       "       '“周末双休 团队氛围好”', '“世界500强外企 数字化转型 领先技术”', '“寻找你和我一起用数据改变零售”',\n",
       "       '“AI风口；扁平化；晋升机会大”', '“独角兽,人工智能,团队融洽,高成长”',\n",
       "       '“扁平化管理 注重员工个人成长 餐补 体检”', '“五险一金，带薪年假，交通餐补，定期体检”', '“平台大，机会多”',\n",
       "       '“互联网汽车 行业领先 福利待遇好”', '“六险一金 大厂背景 领导nice”',\n",
       "       '“多次调薪,绩效奖金,节日福利,周末双休”', '“五险一金,带薪年假,股票期权,学习氛围好”', '“发展前景佳”',\n",
       "       '“年底双薪,年终奖金,五险一金,补充商业险”', '“**数据分析团队，权威机构数据来源”',\n",
       "       '“数据中台top 技术大牛 扁平管理”', '“大平台 福利好”', '“五险一金 带薪年假 年底奖金 大咖云集”',\n",
       "       '“成熟且小而精的创业团队”', '“六险一金,成熟团队,上升空间”', '“牛人大神 俊男靓女 扁平管理 环境open”',\n",
       "       '“业务发展好、薪水高、福利好、团队融洽”', '“腾讯子公司”', '“行业领先板块”', '“知名平台”',\n",
       "       '“发展前景好、空间大”', '“500强,健身房宿舍,双休餐补”', '“团队氛围好、美女如云”',\n",
       "       '“职业发展点不错、提升机会比较多”', '“快速成长”', '“产品经理”', '“数据分析”',\n",
       "       '“领导好 氛围好 晋升空间大 有班车”', '“发展空间大”', '“六险一金、季度绩效、15薪、年度体检、”',\n",
       "       '“团队扁平化，职位前景好”', '“六险一金 免费晚餐 住房补贴”', '“产品经理-> 高级产品经理–> 产品总监”',\n",
       "       '“大平台 薪资待遇好”', '“银行数据分析”', '“五险一金、带薪年假、期权”',\n",
       "       '“六险一金，体检，下午茶，健身房，食堂等”', '“高薪诚聘”', '“游戏出海”', '“创业平台 期权激励”',\n",
       "       '“发展空间大；团队氛围好；”', '“六险一金 周末双休 扁平管理”', '“上市公司 五险一金 氛围好 发展空间”',\n",
       "       '“全球最大的中文媒体信息集成与资讯服务商”', '“高额年终奖金”', '“互联网教育，五险一金，餐补车补，免费班车”',\n",
       "       '“成长性高、团队协作愉快”', '“带薪年假 扁平式管理 五险一金”', '“团队大牛”',\n",
       "       '“带薪年假，定期体检，年度旅游，扁平管理”', '“全球中文学习平台”', '“团队氛围好,扁平管理,弹性工作”',\n",
       "       '“知名公司,政府公安,福利好”', '“周末双休，高薪诚聘”', '“后端,数据产品”',\n",
       "       '“素质类教育****企业 B3轮融资”', '“双休，包餐”', '“牛人多、核心岗位、明星业务”',\n",
       "       '“七险一金、餐补、子女福利、大厂平台等”', '“免费班车；餐补；商业保险”', '“朝九晚六 双休 团队出国游”',\n",
       "       '“团队技术氛围良好”', '“海外；电商；东南亚；Shopee总部”', '“六险一金，带薪年假，绩效奖金，福利补贴”',\n",
       "       '“五险一金、节日福利、绩效奖金、免费班车”', '“快速发展 福利完善”', '“福利待遇好,奖金丰厚,工作氛围好,各种团”',\n",
       "       '“福利待遇好、发展前景巨大、集团总部”', '“数据说话，用户分析”', '“平台大”',\n",
       "       '“博士带队,待遇好,发展前景大，上市公司稳定”', '“支撑百度搜索，AI等核心业务，超大规模业务量”',\n",
       "       '“补充医疗,健身房,通勤车”', '“五险一金、周末双休、带薪年假、年终奖”',\n",
       "       '“产品驱动,结果导向,行业佼佼者,工具效率产品”', '“绩效奖金、年中旅游”', '“福利待遇好”', '“海量数据”'],\n",
       "      dtype=object)"
      ]
     },
     "execution_count": 62,
     "metadata": {},
     "output_type": "execute_result"
    }
   ],
   "source": [
    "lagou.welfare.unique()"
   ]
  },
  {
   "cell_type": "code",
   "execution_count": 66,
   "metadata": {},
   "outputs": [
    {
     "data": {
      "text/plain": [
       "array(['15k-25k', '20k-40k', '20k-30k', '15k-30k', '17k-22k', '14k-20k',\n",
       "       '25k-34k', '20k-35k', '12k-20k', '18k-35k', '35k-50k', '25k-50k',\n",
       "       '25k-40k', '18k-30k', '10k-18k', '12k-22k', '11k-18k', '30k-45k',\n",
       "       '10k-15k', '20k-25k', '18k-28k', '30k-50k', '35k-40k', '8k-15k',\n",
       "       '25k-35k', '9k-15k', '22k-35k', '7k-14k', '30k-55k', '13k-25k',\n",
       "       '10k-20k', '4k-6k', '6k-12k', '8k-14k', '8k-16k', '18k-36k',\n",
       "       '15k-20k', '14k-28k', '16k-32k', '2k-3k', '25k-30k', '16k-30k',\n",
       "       '25k-45k', '15k-22k', '18k-25k', '8k-10k', '40k-60k', '11k-22k',\n",
       "       '11k-20k', '30k-40k', '12k-18k', '12k-16k', '13k-20k', '46k-60k'],\n",
       "      dtype=object)"
      ]
     },
     "execution_count": 66,
     "metadata": {},
     "output_type": "execute_result"
    }
   ],
   "source": [
    "lagou.wage.unique()"
   ]
  },
  {
   "cell_type": "markdown",
   "metadata": {},
   "source": [
    "- wage中薪资包含最高和最低薪资两个元素，我们对其进行拆分"
   ]
  },
  {
   "cell_type": "code",
   "execution_count": 67,
   "metadata": {},
   "outputs": [],
   "source": [
    "lagou['wage_low'] = lagou.wage.str.split('-').str[0]\n",
    "lagou['wage_high'] = lagou.wage.str.split('-').str[1]"
   ]
  },
  {
   "cell_type": "code",
   "execution_count": 74,
   "metadata": {},
   "outputs": [],
   "source": [
    "# 将后面的单位符号去除\n",
    "lagou.wage_low = lagou.wage_low.apply(lambda x: x.strip('k'))\n",
    "lagou.wage_high = lagou.wage_high.apply(lambda x: x.strip('k'))"
   ]
  },
  {
   "cell_type": "code",
   "execution_count": 81,
   "metadata": {},
   "outputs": [],
   "source": [
    "# 去除原先的列\n",
    "lagou = lagou.drop('wage',axis = 1)"
   ]
  },
  {
   "cell_type": "code",
   "execution_count": 76,
   "metadata": {},
   "outputs": [],
   "source": [
    "# 将薪资转化为数值变量\n",
    "lagou.wage_low = lagou.wage_low.astype(int)\n",
    "lagou.wage_high = lagou.wage_high.astype(int)"
   ]
  },
  {
   "cell_type": "code",
   "execution_count": 89,
   "metadata": {},
   "outputs": [],
   "source": [
    "# 计算平均薪资\n",
    "lagou['wage_avg'] = (lagou.wage_high + lagou.wage_low)/2"
   ]
  },
  {
   "cell_type": "markdown",
   "metadata": {},
   "source": [
    "接着我们将requirement中的经验和学历拆分开"
   ]
  },
  {
   "cell_type": "code",
   "execution_count": 153,
   "metadata": {},
   "outputs": [],
   "source": [
    "lagou['education'] = lagou.requirement.str.split('/').str[1]\n",
    "lagou['experiment'] = lagou.requirement.str.split('/').str[0]"
   ]
  },
  {
   "cell_type": "code",
   "execution_count": 303,
   "metadata": {},
   "outputs": [],
   "source": [
    "# 删除原有列\n",
    "lagou = lagou.drop('requirement',axis = 1)"
   ]
  },
  {
   "cell_type": "code",
   "execution_count": 309,
   "metadata": {},
   "outputs": [],
   "source": [
    "# 删除字段中多余的空格\n",
    "lagou.education = lagou.education.str.strip()\n",
    "lagou.experiment = lagou.experiment.str.strip()"
   ]
  },
  {
   "cell_type": "code",
   "execution_count": 307,
   "metadata": {},
   "outputs": [
    {
     "data": {
      "text/plain": [
       "本科    0.925532\n",
       "不限    0.035461\n",
       "大专    0.014184\n",
       "应届    0.014184\n",
       "硕士    0.010638\n",
       "Name: education, dtype: float64"
      ]
     },
     "execution_count": 307,
     "metadata": {},
     "output_type": "execute_result"
    }
   ],
   "source": [
    "lagou.education.value_counts(1)"
   ]
  },
  {
   "cell_type": "markdown",
   "metadata": {},
   "source": [
    "- 我们可以发现大部分学历要求为本科生"
   ]
  },
  {
   "cell_type": "code",
   "execution_count": 310,
   "metadata": {},
   "outputs": [
    {
     "data": {
      "text/plain": [
       "经验3-5年     0.546099\n",
       "经验5-10年    0.248227\n",
       "经验1-3年     0.131206\n",
       "经验不限       0.056738\n",
       "经验在校       0.014184\n",
       "经验10年以上    0.003546\n",
       "Name: experiment, dtype: float64"
      ]
     },
     "execution_count": 310,
     "metadata": {},
     "output_type": "execute_result"
    }
   ],
   "source": [
    "lagou.experiment.value_counts(1)"
   ]
  },
  {
   "cell_type": "markdown",
   "metadata": {},
   "source": [
    "- 我们发现超过半数要求求职者有3-5年的相关经验"
   ]
  },
  {
   "cell_type": "code",
   "execution_count": 311,
   "metadata": {},
   "outputs": [
    {
     "data": {
      "text/html": [
       "<div>\n",
       "<style scoped>\n",
       "    .dataframe tbody tr th:only-of-type {\n",
       "        vertical-align: middle;\n",
       "    }\n",
       "\n",
       "    .dataframe tbody tr th {\n",
       "        vertical-align: top;\n",
       "    }\n",
       "\n",
       "    .dataframe thead th {\n",
       "        text-align: right;\n",
       "    }\n",
       "</style>\n",
       "<table border=\"1\" class=\"dataframe\">\n",
       "  <thead>\n",
       "    <tr style=\"text-align: right;\">\n",
       "      <th></th>\n",
       "      <th>name</th>\n",
       "      <th>company</th>\n",
       "      <th>job</th>\n",
       "      <th>welfare</th>\n",
       "      <th>city</th>\n",
       "      <th>companysize</th>\n",
       "      <th>companyfinance</th>\n",
       "      <th>companyfield</th>\n",
       "      <th>wage_low</th>\n",
       "      <th>wage_high</th>\n",
       "      <th>wage_avg</th>\n",
       "      <th>education</th>\n",
       "      <th>experiment</th>\n",
       "    </tr>\n",
       "  </thead>\n",
       "  <tbody>\n",
       "    <tr>\n",
       "      <th>0</th>\n",
       "      <td>2631MH-数据产品经理（企业大数据）</td>\n",
       "      <td>平安租赁</td>\n",
       "      <td>投资/融资</td>\n",
       "      <td>“五险一金,节日福利,定期体检,免费班车”</td>\n",
       "      <td>上海</td>\n",
       "      <td>500-2000</td>\n",
       "      <td>不需要融资</td>\n",
       "      <td>金融</td>\n",
       "      <td>15</td>\n",
       "      <td>25</td>\n",
       "      <td>20.0</td>\n",
       "      <td>本科</td>\n",
       "      <td>经验5-10年</td>\n",
       "    </tr>\n",
       "    <tr>\n",
       "      <th>1</th>\n",
       "      <td>数据产品经理（底层数据治理）</td>\n",
       "      <td>聚云数字</td>\n",
       "      <td>广告营销</td>\n",
       "      <td>“13薪 免费午餐 周末双休”</td>\n",
       "      <td>北京</td>\n",
       "      <td>50-150</td>\n",
       "      <td>未融资</td>\n",
       "      <td>广告营销</td>\n",
       "      <td>20</td>\n",
       "      <td>40</td>\n",
       "      <td>30.0</td>\n",
       "      <td>本科</td>\n",
       "      <td>经验不限</td>\n",
       "    </tr>\n",
       "    <tr>\n",
       "      <th>2</th>\n",
       "      <td>数据产品经理</td>\n",
       "      <td>中企动力</td>\n",
       "      <td>电商</td>\n",
       "      <td>“五险一金，带薪年假，大牛带队，绩效奖金”</td>\n",
       "      <td>北京</td>\n",
       "      <td>&gt;2000</td>\n",
       "      <td>上市公司</td>\n",
       "      <td>电商,移动互联网</td>\n",
       "      <td>20</td>\n",
       "      <td>30</td>\n",
       "      <td>25.0</td>\n",
       "      <td>本科</td>\n",
       "      <td>经验3-5年</td>\n",
       "    </tr>\n",
       "    <tr>\n",
       "      <th>3</th>\n",
       "      <td>1231GX-大数据产品经理</td>\n",
       "      <td>平安金服</td>\n",
       "      <td>大数据</td>\n",
       "      <td>“五险一金,年底双薪,绩效奖金,高温补贴”</td>\n",
       "      <td>上海</td>\n",
       "      <td>&gt;2000</td>\n",
       "      <td>上市公司</td>\n",
       "      <td>金融</td>\n",
       "      <td>15</td>\n",
       "      <td>25</td>\n",
       "      <td>20.0</td>\n",
       "      <td>本科</td>\n",
       "      <td>经验1-3年</td>\n",
       "    </tr>\n",
       "    <tr>\n",
       "      <th>4</th>\n",
       "      <td>产品经理（数据方向）</td>\n",
       "      <td>猿辅导</td>\n",
       "      <td>数据</td>\n",
       "      <td>“六险一金，独角兽企业，扁平管理。”</td>\n",
       "      <td>北京</td>\n",
       "      <td>&gt;2000</td>\n",
       "      <td>D轮及以上</td>\n",
       "      <td>移动互联网,教育</td>\n",
       "      <td>20</td>\n",
       "      <td>40</td>\n",
       "      <td>30.0</td>\n",
       "      <td>不限</td>\n",
       "      <td>经验3-5年</td>\n",
       "    </tr>\n",
       "  </tbody>\n",
       "</table>\n",
       "</div>"
      ],
      "text/plain": [
       "                   name company    job                welfare city  \\\n",
       "0  2631MH-数据产品经理（企业大数据）    平安租赁  投资/融资  “五险一金,节日福利,定期体检,免费班车”   上海   \n",
       "1        数据产品经理（底层数据治理）    聚云数字   广告营销        “13薪 免费午餐 周末双休”   北京   \n",
       "2                数据产品经理    中企动力     电商  “五险一金，带薪年假，大牛带队，绩效奖金”   北京   \n",
       "3        1231GX-大数据产品经理    平安金服    大数据  “五险一金,年底双薪,绩效奖金,高温补贴”   上海   \n",
       "4            产品经理（数据方向）     猿辅导     数据     “六险一金，独角兽企业，扁平管理。”   北京   \n",
       "\n",
       "  companysize companyfinance companyfield  wage_low  wage_high  wage_avg  \\\n",
       "0    500-2000         不需要融资           金融         15         25      20.0   \n",
       "1      50-150           未融资         广告营销         20         40      30.0   \n",
       "2       >2000          上市公司     电商,移动互联网         20         30      25.0   \n",
       "3       >2000          上市公司           金融         15         25      20.0   \n",
       "4       >2000         D轮及以上     移动互联网,教育         20         40      30.0   \n",
       "\n",
       "  education experiment  \n",
       "0        本科    经验5-10年  \n",
       "1        本科       经验不限  \n",
       "2        本科     经验3-5年  \n",
       "3        本科     经验1-3年  \n",
       "4        不限     经验3-5年  "
      ]
     },
     "execution_count": 311,
     "metadata": {},
     "output_type": "execute_result"
    }
   ],
   "source": [
    "lagou.head()"
   ]
  },
  {
   "cell_type": "code",
   "execution_count": 159,
   "metadata": {},
   "outputs": [
    {
     "data": {
      "text/plain": [
       "(285, 14)"
      ]
     },
     "execution_count": 159,
     "metadata": {},
     "output_type": "execute_result"
    }
   ],
   "source": [
    "lagou.shape"
   ]
  },
  {
   "cell_type": "code",
   "execution_count": 160,
   "metadata": {},
   "outputs": [
    {
     "name": "stdout",
     "output_type": "stream",
     "text": [
      "<class 'pandas.core.frame.DataFrame'>\n",
      "RangeIndex: 285 entries, 0 to 284\n",
      "Data columns (total 14 columns):\n",
      " #   Column          Non-Null Count  Dtype  \n",
      "---  ------          --------------  -----  \n",
      " 0   name            285 non-null    object \n",
      " 1   company         285 non-null    object \n",
      " 2   job             285 non-null    object \n",
      " 3   welfare         285 non-null    object \n",
      " 4   requirement     285 non-null    object \n",
      " 5   city            285 non-null    object \n",
      " 6   companysize     285 non-null    object \n",
      " 7   companyfinance  285 non-null    object \n",
      " 8   companyfield    285 non-null    object \n",
      " 9   wage_low        285 non-null    int64  \n",
      " 10  wage_high       285 non-null    int64  \n",
      " 11  wage_avg        285 non-null    float64\n",
      " 12  education       285 non-null    object \n",
      " 13  experiment      285 non-null    object \n",
      "dtypes: float64(1), int64(2), object(11)\n",
      "memory usage: 31.3+ KB\n"
     ]
    }
   ],
   "source": [
    "lagou.info()"
   ]
  },
  {
   "cell_type": "markdown",
   "metadata": {},
   "source": [
    "- 数据中不含有缺失值"
   ]
  },
  {
   "cell_type": "markdown",
   "metadata": {},
   "source": [
    "先查看职位的城市分布"
   ]
  },
  {
   "cell_type": "code",
   "execution_count": 129,
   "metadata": {},
   "outputs": [
    {
     "data": {
      "text/plain": [
       "北京    128\n",
       "深圳     46\n",
       "上海     34\n",
       "广州     30\n",
       "杭州     21\n",
       "成都     11\n",
       "武汉      4\n",
       "佛山      3\n",
       "重庆      2\n",
       "长沙      2\n",
       "苏州      1\n",
       "贵阳      1\n",
       "厦门      1\n",
       "合肥      1\n",
       "Name: city, dtype: int64"
      ]
     },
     "execution_count": 129,
     "metadata": {},
     "output_type": "execute_result"
    }
   ],
   "source": [
    "lagou.city.value_counts()"
   ]
  },
  {
   "cell_type": "markdown",
   "metadata": {},
   "source": [
    "- 我们发现大部分的职位地点都在北京（原因可能是爬取的是互联网工作数据，北京有大部分的互联网公司）"
   ]
  },
  {
   "cell_type": "code",
   "execution_count": 134,
   "metadata": {},
   "outputs": [
    {
     "data": {
      "text/plain": [
       "<AxesSubplot:xlabel='wage_avg', ylabel='city'>"
      ]
     },
     "execution_count": 134,
     "metadata": {},
     "output_type": "execute_result"
    },
    {
     "data": {
      "image/png": "[encoded data removed]",
      "text/plain": [
       "<Figure size 432x288 with 1 Axes>"
      ]
     },
     "metadata": {},
     "output_type": "display_data"
    }
   ],
   "source": [
    "# 查看各个城市的薪资分布\n",
    "sns.set_style('whitegrid',{'font.sans-serif':['Arial Unicode MS','Arial']})\n",
    "sns.scatterplot(x = 'wage_avg', y = 'city', data = lagou)"
   ]
  },
  {
   "cell_type": "code",
   "execution_count": 133,
   "metadata": {},
   "outputs": [
    {
     "data": {
      "text/html": [
       "<div>\n",
       "<style scoped>\n",
       "    .dataframe tbody tr th:only-of-type {\n",
       "        vertical-align: middle;\n",
       "    }\n",
       "\n",
       "    .dataframe tbody tr th {\n",
       "        vertical-align: top;\n",
       "    }\n",
       "\n",
       "    .dataframe thead th {\n",
       "        text-align: right;\n",
       "    }\n",
       "</style>\n",
       "<table border=\"1\" class=\"dataframe\">\n",
       "  <thead>\n",
       "    <tr style=\"text-align: right;\">\n",
       "      <th></th>\n",
       "      <th>count</th>\n",
       "      <th>mean</th>\n",
       "      <th>std</th>\n",
       "      <th>min</th>\n",
       "      <th>25%</th>\n",
       "      <th>50%</th>\n",
       "      <th>75%</th>\n",
       "      <th>max</th>\n",
       "    </tr>\n",
       "    <tr>\n",
       "      <th>city</th>\n",
       "      <th></th>\n",
       "      <th></th>\n",
       "      <th></th>\n",
       "      <th></th>\n",
       "      <th></th>\n",
       "      <th></th>\n",
       "      <th></th>\n",
       "      <th></th>\n",
       "    </tr>\n",
       "  </thead>\n",
       "  <tbody>\n",
       "    <tr>\n",
       "      <th>北京</th>\n",
       "      <td>128.0</td>\n",
       "      <td>28.300781</td>\n",
       "      <td>7.485771</td>\n",
       "      <td>5.0</td>\n",
       "      <td>22.500</td>\n",
       "      <td>30.00</td>\n",
       "      <td>32.500</td>\n",
       "      <td>50.0</td>\n",
       "    </tr>\n",
       "    <tr>\n",
       "      <th>上海</th>\n",
       "      <td>34.0</td>\n",
       "      <td>25.573529</td>\n",
       "      <td>5.485701</td>\n",
       "      <td>19.0</td>\n",
       "      <td>22.500</td>\n",
       "      <td>22.50</td>\n",
       "      <td>30.000</td>\n",
       "      <td>37.5</td>\n",
       "    </tr>\n",
       "    <tr>\n",
       "      <th>深圳</th>\n",
       "      <td>46.0</td>\n",
       "      <td>25.554348</td>\n",
       "      <td>5.196396</td>\n",
       "      <td>15.0</td>\n",
       "      <td>22.500</td>\n",
       "      <td>25.00</td>\n",
       "      <td>30.000</td>\n",
       "      <td>40.0</td>\n",
       "    </tr>\n",
       "    <tr>\n",
       "      <th>杭州</th>\n",
       "      <td>21.0</td>\n",
       "      <td>24.785714</td>\n",
       "      <td>8.547765</td>\n",
       "      <td>9.0</td>\n",
       "      <td>20.000</td>\n",
       "      <td>22.50</td>\n",
       "      <td>30.000</td>\n",
       "      <td>53.0</td>\n",
       "    </tr>\n",
       "    <tr>\n",
       "      <th>广州</th>\n",
       "      <td>30.0</td>\n",
       "      <td>21.866667</td>\n",
       "      <td>6.700403</td>\n",
       "      <td>12.0</td>\n",
       "      <td>17.000</td>\n",
       "      <td>20.00</td>\n",
       "      <td>26.125</td>\n",
       "      <td>37.5</td>\n",
       "    </tr>\n",
       "    <tr>\n",
       "      <th>武汉</th>\n",
       "      <td>4.0</td>\n",
       "      <td>21.250000</td>\n",
       "      <td>10.103630</td>\n",
       "      <td>12.5</td>\n",
       "      <td>12.500</td>\n",
       "      <td>21.25</td>\n",
       "      <td>30.000</td>\n",
       "      <td>30.0</td>\n",
       "    </tr>\n",
       "    <tr>\n",
       "      <th>苏州</th>\n",
       "      <td>1.0</td>\n",
       "      <td>20.000000</td>\n",
       "      <td>NaN</td>\n",
       "      <td>20.0</td>\n",
       "      <td>20.000</td>\n",
       "      <td>20.00</td>\n",
       "      <td>20.000</td>\n",
       "      <td>20.0</td>\n",
       "    </tr>\n",
       "    <tr>\n",
       "      <th>佛山</th>\n",
       "      <td>3.0</td>\n",
       "      <td>18.333333</td>\n",
       "      <td>3.617089</td>\n",
       "      <td>16.0</td>\n",
       "      <td>16.250</td>\n",
       "      <td>16.50</td>\n",
       "      <td>19.500</td>\n",
       "      <td>22.5</td>\n",
       "    </tr>\n",
       "    <tr>\n",
       "      <th>成都</th>\n",
       "      <td>11.0</td>\n",
       "      <td>16.181818</td>\n",
       "      <td>9.440002</td>\n",
       "      <td>2.5</td>\n",
       "      <td>11.500</td>\n",
       "      <td>16.00</td>\n",
       "      <td>21.250</td>\n",
       "      <td>30.0</td>\n",
       "    </tr>\n",
       "    <tr>\n",
       "      <th>合肥</th>\n",
       "      <td>1.0</td>\n",
       "      <td>15.000000</td>\n",
       "      <td>NaN</td>\n",
       "      <td>15.0</td>\n",
       "      <td>15.000</td>\n",
       "      <td>15.00</td>\n",
       "      <td>15.000</td>\n",
       "      <td>15.0</td>\n",
       "    </tr>\n",
       "    <tr>\n",
       "      <th>贵阳</th>\n",
       "      <td>1.0</td>\n",
       "      <td>12.500000</td>\n",
       "      <td>NaN</td>\n",
       "      <td>12.5</td>\n",
       "      <td>12.500</td>\n",
       "      <td>12.50</td>\n",
       "      <td>12.500</td>\n",
       "      <td>12.5</td>\n",
       "    </tr>\n",
       "    <tr>\n",
       "      <th>厦门</th>\n",
       "      <td>1.0</td>\n",
       "      <td>12.000000</td>\n",
       "      <td>NaN</td>\n",
       "      <td>12.0</td>\n",
       "      <td>12.000</td>\n",
       "      <td>12.00</td>\n",
       "      <td>12.000</td>\n",
       "      <td>12.0</td>\n",
       "    </tr>\n",
       "    <tr>\n",
       "      <th>长沙</th>\n",
       "      <td>2.0</td>\n",
       "      <td>11.500000</td>\n",
       "      <td>3.535534</td>\n",
       "      <td>9.0</td>\n",
       "      <td>10.250</td>\n",
       "      <td>11.50</td>\n",
       "      <td>12.750</td>\n",
       "      <td>14.0</td>\n",
       "    </tr>\n",
       "    <tr>\n",
       "      <th>重庆</th>\n",
       "      <td>2.0</td>\n",
       "      <td>11.250000</td>\n",
       "      <td>0.353553</td>\n",
       "      <td>11.0</td>\n",
       "      <td>11.125</td>\n",
       "      <td>11.25</td>\n",
       "      <td>11.375</td>\n",
       "      <td>11.5</td>\n",
       "    </tr>\n",
       "  </tbody>\n",
       "</table>\n",
       "</div>"
      ],
      "text/plain": [
       "      count       mean        std   min     25%    50%     75%   max\n",
       "city                                                                \n",
       "北京    128.0  28.300781   7.485771   5.0  22.500  30.00  32.500  50.0\n",
       "上海     34.0  25.573529   5.485701  19.0  22.500  22.50  30.000  37.5\n",
       "深圳     46.0  25.554348   5.196396  15.0  22.500  25.00  30.000  40.0\n",
       "杭州     21.0  24.785714   8.547765   9.0  20.000  22.50  30.000  53.0\n",
       "广州     30.0  21.866667   6.700403  12.0  17.000  20.00  26.125  37.5\n",
       "武汉      4.0  21.250000  10.103630  12.5  12.500  21.25  30.000  30.0\n",
       "苏州      1.0  20.000000        NaN  20.0  20.000  20.00  20.000  20.0\n",
       "佛山      3.0  18.333333   3.617089  16.0  16.250  16.50  19.500  22.5\n",
       "成都     11.0  16.181818   9.440002   2.5  11.500  16.00  21.250  30.0\n",
       "合肥      1.0  15.000000        NaN  15.0  15.000  15.00  15.000  15.0\n",
       "贵阳      1.0  12.500000        NaN  12.5  12.500  12.50  12.500  12.5\n",
       "厦门      1.0  12.000000        NaN  12.0  12.000  12.00  12.000  12.0\n",
       "长沙      2.0  11.500000   3.535534   9.0  10.250  11.50  12.750  14.0\n",
       "重庆      2.0  11.250000   0.353553  11.0  11.125  11.25  11.375  11.5"
      ]
     },
     "execution_count": 133,
     "metadata": {},
     "output_type": "execute_result"
    }
   ],
   "source": [
    "# 比较各个城市的薪资情况\n",
    "lagou.groupby('city')['wage_avg'].describe().sort_values('mean',ascending = False)"
   ]
  },
  {
   "cell_type": "markdown",
   "metadata": {},
   "source": [
    "- 我们发现，北京的平均工资最高，约为28.3k，上海和深圳的平均工资相似约为25.6k，杭州的薪资约为24.8k，广州的薪资约为21.9k（其余城市因为样本量过小不予考虑）\n",
    "- 同时，北京和杭州的岗位平均薪资标准差略大于上海和深圳，说明基于不同工作，平均薪资的浮动会略大一些"
   ]
  },
  {
   "cell_type": "code",
   "execution_count": 146,
   "metadata": {},
   "outputs": [
    {
     "data": {
      "text/plain": [
       "文娱丨内容           0.115789\n",
       "金融              0.091228\n",
       "移动互联网           0.056140\n",
       "电商              0.052632\n",
       "数据服务            0.042105\n",
       "                  ...   \n",
       "医疗丨健康,移动互联网     0.003509\n",
       "数据服务,人工智能       0.003509\n",
       "移动互联网,医疗丨健康     0.003509\n",
       "金融,电商           0.003509\n",
       "电商,房产家居         0.003509\n",
       "Name: companyfield, Length: 65, dtype: float64"
      ]
     },
     "execution_count": 146,
     "metadata": {},
     "output_type": "execute_result"
    }
   ],
   "source": [
    "# 查看企业领域的分布\n",
    "lagou.companyfield.value_counts(1)"
   ]
  },
  {
   "cell_type": "code",
   "execution_count": 150,
   "metadata": {},
   "outputs": [
    {
     "data": {
      "text/plain": [
       "<AxesSubplot:>"
      ]
     },
     "execution_count": 150,
     "metadata": {},
     "output_type": "execute_result"
    },
    {
     "data": {
      "image/png": "[encoded data removed]",
      "text/plain": [
       "<Figure size 1440x1080 with 1 Axes>"
      ]
     },
     "metadata": {},
     "output_type": "display_data"
    }
   ],
   "source": [
    "# 企业领域分布直方图\n",
    "plt.figure(figsize=(20, 15))\n",
    "lagou.companyfield.value_counts(1).plot(kind = 'bar')"
   ]
  },
  {
   "cell_type": "markdown",
   "metadata": {},
   "source": [
    "- 我们可以看出文娱｜内容领域的企业较多，其次则是金融领域，接着是互联网和电商领域"
   ]
  },
  {
   "cell_type": "code",
   "execution_count": 142,
   "metadata": {},
   "outputs": [
    {
     "data": {
      "text/plain": [
       "<AxesSubplot:xlabel='wage_avg', ylabel='companyfield'>"
      ]
     },
     "execution_count": 142,
     "metadata": {},
     "output_type": "execute_result"
    },
    {
     "data": {
      "image/png": "[encoded data removed]",
      "text/plain": [
       "<Figure size 1440x1080 with 1 Axes>"
      ]
     },
     "metadata": {},
     "output_type": "display_data"
    }
   ],
   "source": [
    "# 查看企业领域和薪资之间的关系\n",
    "plt.figure(figsize=(20, 15))\n",
    "sns.scatterplot( y = 'companyfield',x = 'wage_avg', data = lagou)"
   ]
  },
  {
   "cell_type": "code",
   "execution_count": 229,
   "metadata": {},
   "outputs": [
    {
     "data": {
      "text/html": [
       "<div>\n",
       "<style scoped>\n",
       "    .dataframe tbody tr th:only-of-type {\n",
       "        vertical-align: middle;\n",
       "    }\n",
       "\n",
       "    .dataframe tbody tr th {\n",
       "        vertical-align: top;\n",
       "    }\n",
       "\n",
       "    .dataframe thead th {\n",
       "        text-align: right;\n",
       "    }\n",
       "</style>\n",
       "<table border=\"1\" class=\"dataframe\">\n",
       "  <thead>\n",
       "    <tr style=\"text-align: right;\">\n",
       "      <th></th>\n",
       "      <th>count</th>\n",
       "      <th>mean</th>\n",
       "      <th>std</th>\n",
       "      <th>min</th>\n",
       "      <th>25%</th>\n",
       "      <th>50%</th>\n",
       "      <th>75%</th>\n",
       "      <th>max</th>\n",
       "    </tr>\n",
       "    <tr>\n",
       "      <th>companyfield</th>\n",
       "      <th></th>\n",
       "      <th></th>\n",
       "      <th></th>\n",
       "      <th></th>\n",
       "      <th></th>\n",
       "      <th></th>\n",
       "      <th></th>\n",
       "      <th></th>\n",
       "    </tr>\n",
       "  </thead>\n",
       "  <tbody>\n",
       "    <tr>\n",
       "      <th>文娱丨内容</th>\n",
       "      <td>33.0</td>\n",
       "      <td>29.257576</td>\n",
       "      <td>4.089088</td>\n",
       "      <td>20.0</td>\n",
       "      <td>30.000</td>\n",
       "      <td>30.00</td>\n",
       "      <td>30.000</td>\n",
       "      <td>37.5</td>\n",
       "    </tr>\n",
       "    <tr>\n",
       "      <th>金融</th>\n",
       "      <td>26.0</td>\n",
       "      <td>26.557692</td>\n",
       "      <td>7.182377</td>\n",
       "      <td>15.0</td>\n",
       "      <td>20.625</td>\n",
       "      <td>25.00</td>\n",
       "      <td>30.000</td>\n",
       "      <td>40.0</td>\n",
       "    </tr>\n",
       "    <tr>\n",
       "      <th>移动互联网</th>\n",
       "      <td>16.0</td>\n",
       "      <td>24.343750</td>\n",
       "      <td>5.274842</td>\n",
       "      <td>15.0</td>\n",
       "      <td>22.500</td>\n",
       "      <td>23.25</td>\n",
       "      <td>26.500</td>\n",
       "      <td>37.5</td>\n",
       "    </tr>\n",
       "    <tr>\n",
       "      <th>电商</th>\n",
       "      <td>15.0</td>\n",
       "      <td>29.700000</td>\n",
       "      <td>12.805970</td>\n",
       "      <td>12.0</td>\n",
       "      <td>18.000</td>\n",
       "      <td>30.00</td>\n",
       "      <td>37.500</td>\n",
       "      <td>53.0</td>\n",
       "    </tr>\n",
       "    <tr>\n",
       "      <th>数据服务</th>\n",
       "      <td>12.0</td>\n",
       "      <td>17.875000</td>\n",
       "      <td>6.715400</td>\n",
       "      <td>9.0</td>\n",
       "      <td>11.625</td>\n",
       "      <td>19.00</td>\n",
       "      <td>22.500</td>\n",
       "      <td>28.5</td>\n",
       "    </tr>\n",
       "    <tr>\n",
       "      <th>工具</th>\n",
       "      <td>11.0</td>\n",
       "      <td>28.090909</td>\n",
       "      <td>7.657735</td>\n",
       "      <td>10.5</td>\n",
       "      <td>26.750</td>\n",
       "      <td>30.00</td>\n",
       "      <td>30.000</td>\n",
       "      <td>42.5</td>\n",
       "    </tr>\n",
       "    <tr>\n",
       "      <th>教育</th>\n",
       "      <td>10.0</td>\n",
       "      <td>24.300000</td>\n",
       "      <td>5.643088</td>\n",
       "      <td>15.0</td>\n",
       "      <td>22.500</td>\n",
       "      <td>22.75</td>\n",
       "      <td>29.375</td>\n",
       "      <td>32.5</td>\n",
       "    </tr>\n",
       "    <tr>\n",
       "      <th>企业服务</th>\n",
       "      <td>10.0</td>\n",
       "      <td>22.600000</td>\n",
       "      <td>12.162785</td>\n",
       "      <td>2.5</td>\n",
       "      <td>19.000</td>\n",
       "      <td>26.50</td>\n",
       "      <td>30.000</td>\n",
       "      <td>40.0</td>\n",
       "    </tr>\n",
       "    <tr>\n",
       "      <th>汽车丨出行</th>\n",
       "      <td>9.0</td>\n",
       "      <td>25.000000</td>\n",
       "      <td>5.471517</td>\n",
       "      <td>14.0</td>\n",
       "      <td>23.000</td>\n",
       "      <td>24.00</td>\n",
       "      <td>30.000</td>\n",
       "      <td>32.5</td>\n",
       "    </tr>\n",
       "    <tr>\n",
       "      <th>移动互联网,企业服务</th>\n",
       "      <td>9.0</td>\n",
       "      <td>23.666667</td>\n",
       "      <td>7.866066</td>\n",
       "      <td>11.5</td>\n",
       "      <td>20.000</td>\n",
       "      <td>22.50</td>\n",
       "      <td>30.000</td>\n",
       "      <td>37.5</td>\n",
       "    </tr>\n",
       "    <tr>\n",
       "      <th>消费生活</th>\n",
       "      <td>8.0</td>\n",
       "      <td>31.250000</td>\n",
       "      <td>7.071068</td>\n",
       "      <td>20.0</td>\n",
       "      <td>28.125</td>\n",
       "      <td>32.50</td>\n",
       "      <td>35.625</td>\n",
       "      <td>40.0</td>\n",
       "    </tr>\n",
       "    <tr>\n",
       "      <th>旅游</th>\n",
       "      <td>7.0</td>\n",
       "      <td>24.285714</td>\n",
       "      <td>5.146659</td>\n",
       "      <td>20.0</td>\n",
       "      <td>20.000</td>\n",
       "      <td>22.50</td>\n",
       "      <td>27.500</td>\n",
       "      <td>32.5</td>\n",
       "    </tr>\n",
       "    <tr>\n",
       "      <th>硬件</th>\n",
       "      <td>7.0</td>\n",
       "      <td>23.571429</td>\n",
       "      <td>9.774237</td>\n",
       "      <td>5.0</td>\n",
       "      <td>20.000</td>\n",
       "      <td>27.50</td>\n",
       "      <td>28.750</td>\n",
       "      <td>35.0</td>\n",
       "    </tr>\n",
       "    <tr>\n",
       "      <th>移动互联网,社交</th>\n",
       "      <td>6.0</td>\n",
       "      <td>25.916667</td>\n",
       "      <td>3.262157</td>\n",
       "      <td>22.5</td>\n",
       "      <td>24.000</td>\n",
       "      <td>24.50</td>\n",
       "      <td>28.750</td>\n",
       "      <td>30.0</td>\n",
       "    </tr>\n",
       "    <tr>\n",
       "      <th>移动互联网,文娱丨内容</th>\n",
       "      <td>6.0</td>\n",
       "      <td>19.583333</td>\n",
       "      <td>4.923583</td>\n",
       "      <td>11.5</td>\n",
       "      <td>17.750</td>\n",
       "      <td>20.00</td>\n",
       "      <td>23.000</td>\n",
       "      <td>25.0</td>\n",
       "    </tr>\n",
       "    <tr>\n",
       "      <th>移动互联网,教育</th>\n",
       "      <td>5.0</td>\n",
       "      <td>31.800000</td>\n",
       "      <td>8.136338</td>\n",
       "      <td>22.5</td>\n",
       "      <td>26.500</td>\n",
       "      <td>30.00</td>\n",
       "      <td>37.500</td>\n",
       "      <td>42.5</td>\n",
       "    </tr>\n",
       "    <tr>\n",
       "      <th>移动互联网,金融</th>\n",
       "      <td>4.0</td>\n",
       "      <td>28.750000</td>\n",
       "      <td>6.614378</td>\n",
       "      <td>22.5</td>\n",
       "      <td>24.375</td>\n",
       "      <td>27.50</td>\n",
       "      <td>31.875</td>\n",
       "      <td>37.5</td>\n",
       "    </tr>\n",
       "    <tr>\n",
       "      <th>移动互联网,消费生活</th>\n",
       "      <td>4.0</td>\n",
       "      <td>26.875000</td>\n",
       "      <td>5.543389</td>\n",
       "      <td>20.0</td>\n",
       "      <td>23.750</td>\n",
       "      <td>27.50</td>\n",
       "      <td>30.625</td>\n",
       "      <td>32.5</td>\n",
       "    </tr>\n",
       "    <tr>\n",
       "      <th>移动互联网,数据服务</th>\n",
       "      <td>4.0</td>\n",
       "      <td>26.000000</td>\n",
       "      <td>8.356634</td>\n",
       "      <td>17.5</td>\n",
       "      <td>22.375</td>\n",
       "      <td>24.50</td>\n",
       "      <td>28.125</td>\n",
       "      <td>37.5</td>\n",
       "    </tr>\n",
       "    <tr>\n",
       "      <th>电商,文娱丨内容</th>\n",
       "      <td>4.0</td>\n",
       "      <td>21.250000</td>\n",
       "      <td>1.443376</td>\n",
       "      <td>20.0</td>\n",
       "      <td>20.000</td>\n",
       "      <td>21.25</td>\n",
       "      <td>22.500</td>\n",
       "      <td>22.5</td>\n",
       "    </tr>\n",
       "  </tbody>\n",
       "</table>\n",
       "</div>"
      ],
      "text/plain": [
       "              count       mean        std   min     25%    50%     75%   max\n",
       "companyfield                                                                \n",
       "文娱丨内容          33.0  29.257576   4.089088  20.0  30.000  30.00  30.000  37.5\n",
       "金融             26.0  26.557692   7.182377  15.0  20.625  25.00  30.000  40.0\n",
       "移动互联网          16.0  24.343750   5.274842  15.0  22.500  23.25  26.500  37.5\n",
       "电商             15.0  29.700000  12.805970  12.0  18.000  30.00  37.500  53.0\n",
       "数据服务           12.0  17.875000   6.715400   9.0  11.625  19.00  22.500  28.5\n",
       "工具             11.0  28.090909   7.657735  10.5  26.750  30.00  30.000  42.5\n",
       "教育             10.0  24.300000   5.643088  15.0  22.500  22.75  29.375  32.5\n",
       "企业服务           10.0  22.600000  12.162785   2.5  19.000  26.50  30.000  40.0\n",
       "汽车丨出行           9.0  25.000000   5.471517  14.0  23.000  24.00  30.000  32.5\n",
       "移动互联网,企业服务      9.0  23.666667   7.866066  11.5  20.000  22.50  30.000  37.5\n",
       "消费生活            8.0  31.250000   7.071068  20.0  28.125  32.50  35.625  40.0\n",
       "旅游              7.0  24.285714   5.146659  20.0  20.000  22.50  27.500  32.5\n",
       "硬件              7.0  23.571429   9.774237   5.0  20.000  27.50  28.750  35.0\n",
       "移动互联网,社交        6.0  25.916667   3.262157  22.5  24.000  24.50  28.750  30.0\n",
       "移动互联网,文娱丨内容     6.0  19.583333   4.923583  11.5  17.750  20.00  23.000  25.0\n",
       "移动互联网,教育        5.0  31.800000   8.136338  22.5  26.500  30.00  37.500  42.5\n",
       "移动互联网,金融        4.0  28.750000   6.614378  22.5  24.375  27.50  31.875  37.5\n",
       "移动互联网,消费生活      4.0  26.875000   5.543389  20.0  23.750  27.50  30.625  32.5\n",
       "移动互联网,数据服务      4.0  26.000000   8.356634  17.5  22.375  24.50  28.125  37.5\n",
       "电商,文娱丨内容        4.0  21.250000   1.443376  20.0  20.000  21.25  22.500  22.5"
      ]
     },
     "execution_count": 229,
     "metadata": {},
     "output_type": "execute_result"
    }
   ],
   "source": [
    "lagou.groupby('companyfield')['wage_avg'].describe().sort_values(['count','mean'], ascending = False).head(20)"
   ]
  },
  {
   "cell_type": "markdown",
   "metadata": {},
   "source": [
    "- 通过分类查看之后，我们发现文娱｜内容领域和电商领域的平均薪资较高，但是电商领域的平均薪资标准差高于相比较的其他领域许多，并不能保证其平均薪资的稳定性（电商的最高薪资为53k，而最低薪资为12k）\n",
    "- 除此之外，在样本数量大于十的样本中金融，移动互联网，工具，教育，企业服务领域的平均薪资都大于20k（企业服务领域中最低薪资仅为2.5k，这导致了其标准差增大）"
   ]
  },
  {
   "cell_type": "code",
   "execution_count": 250,
   "metadata": {
    "scrolled": true
   },
   "outputs": [
    {
     "data": {
      "text/html": [
       "<div>\n",
       "<style scoped>\n",
       "    .dataframe tbody tr th:only-of-type {\n",
       "        vertical-align: middle;\n",
       "    }\n",
       "\n",
       "    .dataframe tbody tr th {\n",
       "        vertical-align: top;\n",
       "    }\n",
       "\n",
       "    .dataframe thead th {\n",
       "        text-align: right;\n",
       "    }\n",
       "</style>\n",
       "<table border=\"1\" class=\"dataframe\">\n",
       "  <thead>\n",
       "    <tr style=\"text-align: right;\">\n",
       "      <th></th>\n",
       "      <th>name</th>\n",
       "      <th>company</th>\n",
       "      <th>job</th>\n",
       "      <th>welfare</th>\n",
       "      <th>requirement</th>\n",
       "      <th>city</th>\n",
       "      <th>companysize</th>\n",
       "      <th>companyfinance</th>\n",
       "      <th>companyfield</th>\n",
       "      <th>wage_low</th>\n",
       "      <th>wage_high</th>\n",
       "      <th>wage_avg</th>\n",
       "      <th>education</th>\n",
       "      <th>experiment</th>\n",
       "    </tr>\n",
       "  </thead>\n",
       "  <tbody>\n",
       "    <tr>\n",
       "      <th>19</th>\n",
       "      <td>数据产品经理</td>\n",
       "      <td>数位科技</td>\n",
       "      <td>大数据</td>\n",
       "      <td>“大牛团队 办公环境好”</td>\n",
       "      <td>经验5-10年 / 本科</td>\n",
       "      <td>深圳</td>\n",
       "      <td>150-500</td>\n",
       "      <td>B轮</td>\n",
       "      <td>企业服务</td>\n",
       "      <td>18</td>\n",
       "      <td>35</td>\n",
       "      <td>26.5</td>\n",
       "      <td>本科</td>\n",
       "      <td>经验5-10年</td>\n",
       "    </tr>\n",
       "    <tr>\n",
       "      <th>49</th>\n",
       "      <td>产品经理（大数据/私有云/区块链/公有云产品）</td>\n",
       "      <td>UCloud</td>\n",
       "      <td>云计算</td>\n",
       "      <td>“福利完善、弹性工作制”</td>\n",
       "      <td>经验3-5年 / 本科</td>\n",
       "      <td>上海</td>\n",
       "      <td>500-2000</td>\n",
       "      <td>D轮及以上</td>\n",
       "      <td>企业服务</td>\n",
       "      <td>20</td>\n",
       "      <td>40</td>\n",
       "      <td>30.0</td>\n",
       "      <td>本科</td>\n",
       "      <td>经验3-5年</td>\n",
       "    </tr>\n",
       "    <tr>\n",
       "      <th>101</th>\n",
       "      <td>数据产品产品经理</td>\n",
       "      <td>用友</td>\n",
       "      <td>ERP</td>\n",
       "      <td>“五险一金,餐补,班车,团队氛围好”</td>\n",
       "      <td>经验5-10年 / 本科</td>\n",
       "      <td>北京</td>\n",
       "      <td>&gt;2000</td>\n",
       "      <td>上市公司</td>\n",
       "      <td>企业服务</td>\n",
       "      <td>30</td>\n",
       "      <td>50</td>\n",
       "      <td>40.0</td>\n",
       "      <td>本科</td>\n",
       "      <td>经验5-10年</td>\n",
       "    </tr>\n",
       "    <tr>\n",
       "      <th>117</th>\n",
       "      <td>产品经理（数据治理）</td>\n",
       "      <td>诺诺网络科技</td>\n",
       "      <td>企业服务</td>\n",
       "      <td>“央企背景，财税大蓝海”</td>\n",
       "      <td>经验3-5年 / 本科</td>\n",
       "      <td>杭州</td>\n",
       "      <td>500-2000</td>\n",
       "      <td>未融资</td>\n",
       "      <td>企业服务</td>\n",
       "      <td>13</td>\n",
       "      <td>25</td>\n",
       "      <td>19.0</td>\n",
       "      <td>本科</td>\n",
       "      <td>经验3-5年</td>\n",
       "    </tr>\n",
       "    <tr>\n",
       "      <th>120</th>\n",
       "      <td>数据产品经理</td>\n",
       "      <td>数位科技</td>\n",
       "      <td>大数据</td>\n",
       "      <td>“大牛团队 办公环境好”</td>\n",
       "      <td>经验5-10年 / 本科</td>\n",
       "      <td>深圳</td>\n",
       "      <td>150-500</td>\n",
       "      <td>B轮</td>\n",
       "      <td>企业服务</td>\n",
       "      <td>18</td>\n",
       "      <td>35</td>\n",
       "      <td>26.5</td>\n",
       "      <td>本科</td>\n",
       "      <td>经验5-10年</td>\n",
       "    </tr>\n",
       "    <tr>\n",
       "      <th>142</th>\n",
       "      <td>数据高级产品经理</td>\n",
       "      <td>数位科技</td>\n",
       "      <td>大数据</td>\n",
       "      <td>“高福利待遇，周围都是大牛”</td>\n",
       "      <td>经验5-10年 / 本科</td>\n",
       "      <td>深圳</td>\n",
       "      <td>150-500</td>\n",
       "      <td>B轮</td>\n",
       "      <td>企业服务</td>\n",
       "      <td>25</td>\n",
       "      <td>35</td>\n",
       "      <td>30.0</td>\n",
       "      <td>本科</td>\n",
       "      <td>经验5-10年</td>\n",
       "    </tr>\n",
       "    <tr>\n",
       "      <th>163</th>\n",
       "      <td>产品经理（数据治理）</td>\n",
       "      <td>诺诺网络科技</td>\n",
       "      <td>企业服务</td>\n",
       "      <td>“央企背景，财税大蓝海”</td>\n",
       "      <td>经验3-5年 / 本科</td>\n",
       "      <td>杭州</td>\n",
       "      <td>500-2000</td>\n",
       "      <td>未融资</td>\n",
       "      <td>企业服务</td>\n",
       "      <td>13</td>\n",
       "      <td>25</td>\n",
       "      <td>19.0</td>\n",
       "      <td>本科</td>\n",
       "      <td>经验3-5年</td>\n",
       "    </tr>\n",
       "    <tr>\n",
       "      <th>230</th>\n",
       "      <td>产品经理-大数据方向</td>\n",
       "      <td>有赞</td>\n",
       "      <td>电商</td>\n",
       "      <td>“上市公司 五险一金 氛围好 发展空间”</td>\n",
       "      <td>经验不限 / 不限</td>\n",
       "      <td>杭州</td>\n",
       "      <td>&gt;2000</td>\n",
       "      <td>上市公司</td>\n",
       "      <td>企业服务</td>\n",
       "      <td>20</td>\n",
       "      <td>40</td>\n",
       "      <td>30.0</td>\n",
       "      <td>不限</td>\n",
       "      <td>经验不限</td>\n",
       "    </tr>\n",
       "  </tbody>\n",
       "</table>\n",
       "</div>"
      ],
      "text/plain": [
       "                        name company   job               welfare  \\\n",
       "19                    数据产品经理    数位科技   大数据          “大牛团队 办公环境好”   \n",
       "49   产品经理（大数据/私有云/区块链/公有云产品）  UCloud   云计算          “福利完善、弹性工作制”   \n",
       "101                 数据产品产品经理      用友   ERP    “五险一金,餐补,班车,团队氛围好”   \n",
       "117               产品经理（数据治理）  诺诺网络科技  企业服务          “央企背景，财税大蓝海”   \n",
       "120                   数据产品经理    数位科技   大数据          “大牛团队 办公环境好”   \n",
       "142                 数据高级产品经理    数位科技   大数据        “高福利待遇，周围都是大牛”   \n",
       "163               产品经理（数据治理）  诺诺网络科技  企业服务          “央企背景，财税大蓝海”   \n",
       "230               产品经理-大数据方向      有赞    电商  “上市公司 五险一金 氛围好 发展空间”   \n",
       "\n",
       "                                          requirement city companysize  \\\n",
       "19                                       经验5-10年 / 本科   深圳     150-500   \n",
       "49                                        经验3-5年 / 本科   上海    500-2000   \n",
       "101                                      经验5-10年 / 本科   北京       >2000   \n",
       "117                                       经验3-5年 / 本科   杭州    500-2000   \n",
       "120                                      经验5-10年 / 本科   深圳     150-500   \n",
       "142                                      经验5-10年 / 本科   深圳     150-500   \n",
       "163                                       经验3-5年 / 本科   杭州    500-2000   \n",
       "230                                         经验不限 / 不限   杭州       >2000   \n",
       "\n",
       "    companyfinance companyfield  wage_low  wage_high  wage_avg education  \\\n",
       "19             B轮         企业服务         18         35      26.5        本科   \n",
       "49          D轮及以上         企业服务         20         40      30.0        本科   \n",
       "101          上市公司         企业服务         30         50      40.0        本科   \n",
       "117           未融资         企业服务         13         25      19.0        本科   \n",
       "120            B轮         企业服务         18         35      26.5        本科   \n",
       "142            B轮         企业服务         25         35      30.0        本科   \n",
       "163           未融资         企业服务         13         25      19.0        本科   \n",
       "230          上市公司         企业服务         20         40      30.0        不限   \n",
       "\n",
       "                                       experiment  \n",
       "19                                       经验5-10年   \n",
       "49                                        经验3-5年   \n",
       "101                                      经验5-10年   \n",
       "117                                       经验3-5年   \n",
       "120                                      经验5-10年   \n",
       "142                                      经验5-10年   \n",
       "163                                       经验3-5年   \n",
       "230                                         经验不限   "
      ]
     },
     "execution_count": 250,
     "metadata": {},
     "output_type": "execute_result"
    }
   ],
   "source": [
    "# 查看’企业服务‘领域的职位信息\n",
    "lagou[lagou['companyfield'] == '企业服务 ']"
   ]
  },
  {
   "cell_type": "markdown",
   "metadata": {},
   "source": [
    "- 我们查看了企业领域为‘企业服务’的工作，发现平均薪资为2.5k的为实习工作，我们决定将实习的职位去掉不考虑"
   ]
  },
  {
   "cell_type": "code",
   "execution_count": 244,
   "metadata": {},
   "outputs": [],
   "source": [
    "# 去掉含有‘实习’字符的岗位\n",
    "lagou = lagou[~ lagou['name'].str.contains('实习') ]"
   ]
  },
  {
   "cell_type": "code",
   "execution_count": 247,
   "metadata": {
    "scrolled": true
   },
   "outputs": [
    {
     "data": {
      "text/html": [
       "<div>\n",
       "<style scoped>\n",
       "    .dataframe tbody tr th:only-of-type {\n",
       "        vertical-align: middle;\n",
       "    }\n",
       "\n",
       "    .dataframe tbody tr th {\n",
       "        vertical-align: top;\n",
       "    }\n",
       "\n",
       "    .dataframe thead th {\n",
       "        text-align: right;\n",
       "    }\n",
       "</style>\n",
       "<table border=\"1\" class=\"dataframe\">\n",
       "  <thead>\n",
       "    <tr style=\"text-align: right;\">\n",
       "      <th></th>\n",
       "      <th>count</th>\n",
       "      <th>mean</th>\n",
       "      <th>std</th>\n",
       "      <th>min</th>\n",
       "      <th>25%</th>\n",
       "      <th>50%</th>\n",
       "      <th>75%</th>\n",
       "      <th>max</th>\n",
       "    </tr>\n",
       "    <tr>\n",
       "      <th>companyfield</th>\n",
       "      <th></th>\n",
       "      <th></th>\n",
       "      <th></th>\n",
       "      <th></th>\n",
       "      <th></th>\n",
       "      <th></th>\n",
       "      <th></th>\n",
       "      <th></th>\n",
       "    </tr>\n",
       "  </thead>\n",
       "  <tbody>\n",
       "    <tr>\n",
       "      <th>文娱丨内容</th>\n",
       "      <td>33.0</td>\n",
       "      <td>29.257576</td>\n",
       "      <td>4.089088</td>\n",
       "      <td>20.0</td>\n",
       "      <td>30.000</td>\n",
       "      <td>30.00</td>\n",
       "      <td>30.000</td>\n",
       "      <td>37.5</td>\n",
       "    </tr>\n",
       "    <tr>\n",
       "      <th>金融</th>\n",
       "      <td>26.0</td>\n",
       "      <td>26.557692</td>\n",
       "      <td>7.182377</td>\n",
       "      <td>15.0</td>\n",
       "      <td>20.625</td>\n",
       "      <td>25.00</td>\n",
       "      <td>30.000</td>\n",
       "      <td>40.0</td>\n",
       "    </tr>\n",
       "    <tr>\n",
       "      <th>移动互联网</th>\n",
       "      <td>16.0</td>\n",
       "      <td>24.343750</td>\n",
       "      <td>5.274842</td>\n",
       "      <td>15.0</td>\n",
       "      <td>22.500</td>\n",
       "      <td>23.25</td>\n",
       "      <td>26.500</td>\n",
       "      <td>37.5</td>\n",
       "    </tr>\n",
       "    <tr>\n",
       "      <th>电商</th>\n",
       "      <td>15.0</td>\n",
       "      <td>29.700000</td>\n",
       "      <td>12.805970</td>\n",
       "      <td>12.0</td>\n",
       "      <td>18.000</td>\n",
       "      <td>30.00</td>\n",
       "      <td>37.500</td>\n",
       "      <td>53.0</td>\n",
       "    </tr>\n",
       "    <tr>\n",
       "      <th>数据服务</th>\n",
       "      <td>12.0</td>\n",
       "      <td>17.875000</td>\n",
       "      <td>6.715400</td>\n",
       "      <td>9.0</td>\n",
       "      <td>11.625</td>\n",
       "      <td>19.00</td>\n",
       "      <td>22.500</td>\n",
       "      <td>28.5</td>\n",
       "    </tr>\n",
       "    <tr>\n",
       "      <th>工具</th>\n",
       "      <td>11.0</td>\n",
       "      <td>28.090909</td>\n",
       "      <td>7.657735</td>\n",
       "      <td>10.5</td>\n",
       "      <td>26.750</td>\n",
       "      <td>30.00</td>\n",
       "      <td>30.000</td>\n",
       "      <td>42.5</td>\n",
       "    </tr>\n",
       "    <tr>\n",
       "      <th>教育</th>\n",
       "      <td>10.0</td>\n",
       "      <td>24.300000</td>\n",
       "      <td>5.643088</td>\n",
       "      <td>15.0</td>\n",
       "      <td>22.500</td>\n",
       "      <td>22.75</td>\n",
       "      <td>29.375</td>\n",
       "      <td>32.5</td>\n",
       "    </tr>\n",
       "    <tr>\n",
       "      <th>汽车丨出行</th>\n",
       "      <td>9.0</td>\n",
       "      <td>25.000000</td>\n",
       "      <td>5.471517</td>\n",
       "      <td>14.0</td>\n",
       "      <td>23.000</td>\n",
       "      <td>24.00</td>\n",
       "      <td>30.000</td>\n",
       "      <td>32.5</td>\n",
       "    </tr>\n",
       "    <tr>\n",
       "      <th>移动互联网,企业服务</th>\n",
       "      <td>9.0</td>\n",
       "      <td>23.666667</td>\n",
       "      <td>7.866066</td>\n",
       "      <td>11.5</td>\n",
       "      <td>20.000</td>\n",
       "      <td>22.50</td>\n",
       "      <td>30.000</td>\n",
       "      <td>37.5</td>\n",
       "    </tr>\n",
       "    <tr>\n",
       "      <th>消费生活</th>\n",
       "      <td>8.0</td>\n",
       "      <td>31.250000</td>\n",
       "      <td>7.071068</td>\n",
       "      <td>20.0</td>\n",
       "      <td>28.125</td>\n",
       "      <td>32.50</td>\n",
       "      <td>35.625</td>\n",
       "      <td>40.0</td>\n",
       "    </tr>\n",
       "  </tbody>\n",
       "</table>\n",
       "</div>"
      ],
      "text/plain": [
       "              count       mean        std   min     25%    50%     75%   max\n",
       "companyfield                                                                \n",
       "文娱丨内容          33.0  29.257576   4.089088  20.0  30.000  30.00  30.000  37.5\n",
       "金融             26.0  26.557692   7.182377  15.0  20.625  25.00  30.000  40.0\n",
       "移动互联网          16.0  24.343750   5.274842  15.0  22.500  23.25  26.500  37.5\n",
       "电商             15.0  29.700000  12.805970  12.0  18.000  30.00  37.500  53.0\n",
       "数据服务           12.0  17.875000   6.715400   9.0  11.625  19.00  22.500  28.5\n",
       "工具             11.0  28.090909   7.657735  10.5  26.750  30.00  30.000  42.5\n",
       "教育             10.0  24.300000   5.643088  15.0  22.500  22.75  29.375  32.5\n",
       "汽车丨出行           9.0  25.000000   5.471517  14.0  23.000  24.00  30.000  32.5\n",
       "移动互联网,企业服务      9.0  23.666667   7.866066  11.5  20.000  22.50  30.000  37.5\n",
       "消费生活            8.0  31.250000   7.071068  20.0  28.125  32.50  35.625  40.0"
      ]
     },
     "execution_count": 247,
     "metadata": {},
     "output_type": "execute_result"
    }
   ],
   "source": [
    "# 重新观察不同领域薪资情况\n",
    "lagou.groupby('companyfield')['wage_avg'].describe().sort_values(['count','mean'], ascending = False).head(10)"
   ]
  },
  {
   "cell_type": "code",
   "execution_count": 398,
   "metadata": {
    "scrolled": false
   },
   "outputs": [
    {
     "data": {
      "text/plain": [
       "<AxesSubplot:xlabel='wage_avg', ylabel='companysize'>"
      ]
     },
     "execution_count": 398,
     "metadata": {},
     "output_type": "execute_result"
    },
    {
     "data": {
      "image/png": "[encoded data removed]",
      "text/plain": [
       "<Figure size 432x288 with 1 Axes>"
      ]
     },
     "metadata": {},
     "output_type": "display_data"
    }
   ],
   "source": [
    "# 查看企业大小和薪资之间的关系\n",
    "sns.scatterplot( y = 'companysize', x = 'wage_avg',  data = lagou)"
   ]
  },
  {
   "cell_type": "code",
   "execution_count": 403,
   "metadata": {},
   "outputs": [
    {
     "data": {
      "text/html": [
       "<div>\n",
       "<style scoped>\n",
       "    .dataframe tbody tr th:only-of-type {\n",
       "        vertical-align: middle;\n",
       "    }\n",
       "\n",
       "    .dataframe tbody tr th {\n",
       "        vertical-align: top;\n",
       "    }\n",
       "\n",
       "    .dataframe thead th {\n",
       "        text-align: right;\n",
       "    }\n",
       "</style>\n",
       "<table border=\"1\" class=\"dataframe\">\n",
       "  <thead>\n",
       "    <tr style=\"text-align: right;\">\n",
       "      <th></th>\n",
       "      <th>count</th>\n",
       "      <th>mean</th>\n",
       "      <th>std</th>\n",
       "      <th>min</th>\n",
       "      <th>25%</th>\n",
       "      <th>50%</th>\n",
       "      <th>75%</th>\n",
       "      <th>max</th>\n",
       "    </tr>\n",
       "    <tr>\n",
       "      <th>companysize</th>\n",
       "      <th></th>\n",
       "      <th></th>\n",
       "      <th></th>\n",
       "      <th></th>\n",
       "      <th></th>\n",
       "      <th></th>\n",
       "      <th></th>\n",
       "      <th></th>\n",
       "    </tr>\n",
       "  </thead>\n",
       "  <tbody>\n",
       "    <tr>\n",
       "      <th>&gt;2000</th>\n",
       "      <td>134.0</td>\n",
       "      <td>27.925373</td>\n",
       "      <td>7.073329</td>\n",
       "      <td>10.5</td>\n",
       "      <td>22.500</td>\n",
       "      <td>30.0</td>\n",
       "      <td>30.00</td>\n",
       "      <td>53.0</td>\n",
       "    </tr>\n",
       "    <tr>\n",
       "      <th>500-2000</th>\n",
       "      <td>70.0</td>\n",
       "      <td>25.385714</td>\n",
       "      <td>7.159250</td>\n",
       "      <td>11.5</td>\n",
       "      <td>20.000</td>\n",
       "      <td>25.0</td>\n",
       "      <td>30.00</td>\n",
       "      <td>42.5</td>\n",
       "    </tr>\n",
       "    <tr>\n",
       "      <th>150-500</th>\n",
       "      <td>44.0</td>\n",
       "      <td>22.715909</td>\n",
       "      <td>7.325011</td>\n",
       "      <td>9.0</td>\n",
       "      <td>18.125</td>\n",
       "      <td>22.5</td>\n",
       "      <td>26.50</td>\n",
       "      <td>40.0</td>\n",
       "    </tr>\n",
       "    <tr>\n",
       "      <th>50-150</th>\n",
       "      <td>23.0</td>\n",
       "      <td>22.108696</td>\n",
       "      <td>5.929427</td>\n",
       "      <td>11.5</td>\n",
       "      <td>19.500</td>\n",
       "      <td>22.5</td>\n",
       "      <td>26.25</td>\n",
       "      <td>30.0</td>\n",
       "    </tr>\n",
       "    <tr>\n",
       "      <th>15-50</th>\n",
       "      <td>11.0</td>\n",
       "      <td>20.909091</td>\n",
       "      <td>9.112678</td>\n",
       "      <td>9.0</td>\n",
       "      <td>13.250</td>\n",
       "      <td>19.0</td>\n",
       "      <td>27.00</td>\n",
       "      <td>37.5</td>\n",
       "    </tr>\n",
       "  </tbody>\n",
       "</table>\n",
       "</div>"
      ],
      "text/plain": [
       "             count       mean       std   min     25%   50%    75%   max\n",
       "companysize                                                             \n",
       ">2000        134.0  27.925373  7.073329  10.5  22.500  30.0  30.00  53.0\n",
       " 500-2000     70.0  25.385714  7.159250  11.5  20.000  25.0  30.00  42.5\n",
       " 150-500      44.0  22.715909  7.325011   9.0  18.125  22.5  26.50  40.0\n",
       " 50-150       23.0  22.108696  5.929427  11.5  19.500  22.5  26.25  30.0\n",
       " 15-50        11.0  20.909091  9.112678   9.0  13.250  19.0  27.00  37.5"
      ]
     },
     "execution_count": 403,
     "metadata": {},
     "output_type": "execute_result"
    }
   ],
   "source": [
    "lagou.groupby('companysize')['wage_avg'].describe().sort_values('mean', ascending = False)"
   ]
  },
  {
   "cell_type": "markdown",
   "metadata": {},
   "source": [
    "- 我们发现大的企业拥有更高的平均薪资和薪资上限"
   ]
  },
  {
   "cell_type": "code",
   "execution_count": 248,
   "metadata": {},
   "outputs": [
    {
     "data": {
      "text/plain": [
       "<AxesSubplot:xlabel='wage_avg', ylabel='companyfinance'>"
      ]
     },
     "execution_count": 248,
     "metadata": {},
     "output_type": "execute_result"
    },
    {
     "data": {
      "image/png": "[encoded data removed]",
      "text/plain": [
       "<Figure size 432x288 with 1 Axes>"
      ]
     },
     "metadata": {},
     "output_type": "display_data"
    }
   ],
   "source": [
    "# 查看企业金融情况和薪资之间的关系\n",
    "sns.scatterplot( x = 'wage_avg', y = 'companyfinance', data = lagou)"
   ]
  },
  {
   "cell_type": "markdown",
   "metadata": {},
   "source": [
    "- 我们可以看出，上市公司的平均薪资拥有更高的上限"
   ]
  },
  {
   "cell_type": "code",
   "execution_count": 312,
   "metadata": {},
   "outputs": [
    {
     "data": {
      "text/plain": [
       "<AxesSubplot:xlabel='wage_avg', ylabel='experiment'>"
      ]
     },
     "execution_count": 312,
     "metadata": {},
     "output_type": "execute_result"
    },
    {
     "data": {
      "image/png": "[encoded data removed]",
      "text/plain": [
       "<Figure size 936x576 with 1 Axes>"
      ]
     },
     "metadata": {},
     "output_type": "display_data"
    }
   ],
   "source": [
    "# 查看平均薪资和学历/经验的关系\n",
    "plt.figure(figsize = (13,8))\n",
    "sns.scatterplot(x = 'wage_avg', y = 'experiment', hue = 'education', s = 100, data = lagou)"
   ]
  },
  {
   "cell_type": "markdown",
   "metadata": {},
   "source": [
    "从图中我们可以看出\n",
    "- 经验在校的应届生普遍平均薪资较低（都低于20k）\n",
    "- 学历为大专的求职者 即便有较多的经验一依然只能获得较低的薪资\n",
    "- 经验的长短对平均薪资的下限影响不大（基本都为10k左右），但是经验越长，平均薪资的上限越高（经验10年以上的样本量过小不予考虑）：经验1-3年的最高平均薪资约为43k，经验3-5年的最高平均薪资约为50k，经验5-10年的最高平均薪资则高于50k"
   ]
  },
  {
   "cell_type": "code",
   "execution_count": 290,
   "metadata": {},
   "outputs": [
    {
     "data": {
      "text/html": [
       "<div>\n",
       "<style scoped>\n",
       "    .dataframe tbody tr th:only-of-type {\n",
       "        vertical-align: middle;\n",
       "    }\n",
       "\n",
       "    .dataframe tbody tr th {\n",
       "        vertical-align: top;\n",
       "    }\n",
       "\n",
       "    .dataframe thead th {\n",
       "        text-align: right;\n",
       "    }\n",
       "</style>\n",
       "<table border=\"1\" class=\"dataframe\">\n",
       "  <thead>\n",
       "    <tr style=\"text-align: right;\">\n",
       "      <th></th>\n",
       "      <th>count</th>\n",
       "      <th>mean</th>\n",
       "      <th>std</th>\n",
       "      <th>min</th>\n",
       "      <th>25%</th>\n",
       "      <th>50%</th>\n",
       "      <th>75%</th>\n",
       "      <th>max</th>\n",
       "    </tr>\n",
       "    <tr>\n",
       "      <th>job</th>\n",
       "      <th></th>\n",
       "      <th></th>\n",
       "      <th></th>\n",
       "      <th></th>\n",
       "      <th></th>\n",
       "      <th></th>\n",
       "      <th></th>\n",
       "      <th></th>\n",
       "    </tr>\n",
       "  </thead>\n",
       "  <tbody>\n",
       "    <tr>\n",
       "      <th>大数据</th>\n",
       "      <td>50.0</td>\n",
       "      <td>23.350000</td>\n",
       "      <td>8.197965</td>\n",
       "      <td>9.0</td>\n",
       "      <td>20.000</td>\n",
       "      <td>22.5</td>\n",
       "      <td>29.625</td>\n",
       "      <td>42.5</td>\n",
       "    </tr>\n",
       "    <tr>\n",
       "      <th>数据分析</th>\n",
       "      <td>35.0</td>\n",
       "      <td>26.314286</td>\n",
       "      <td>7.188722</td>\n",
       "      <td>12.0</td>\n",
       "      <td>22.500</td>\n",
       "      <td>25.0</td>\n",
       "      <td>30.000</td>\n",
       "      <td>42.5</td>\n",
       "    </tr>\n",
       "    <tr>\n",
       "      <th>电商</th>\n",
       "      <td>33.0</td>\n",
       "      <td>27.484848</td>\n",
       "      <td>8.334309</td>\n",
       "      <td>16.0</td>\n",
       "      <td>22.500</td>\n",
       "      <td>25.0</td>\n",
       "      <td>30.000</td>\n",
       "      <td>50.0</td>\n",
       "    </tr>\n",
       "    <tr>\n",
       "      <th>数据</th>\n",
       "      <td>17.0</td>\n",
       "      <td>26.764706</td>\n",
       "      <td>5.503174</td>\n",
       "      <td>17.5</td>\n",
       "      <td>22.500</td>\n",
       "      <td>27.5</td>\n",
       "      <td>30.000</td>\n",
       "      <td>40.0</td>\n",
       "    </tr>\n",
       "    <tr>\n",
       "      <th>产品经理</th>\n",
       "      <td>15.0</td>\n",
       "      <td>29.366667</td>\n",
       "      <td>4.607706</td>\n",
       "      <td>22.5</td>\n",
       "      <td>27.000</td>\n",
       "      <td>30.0</td>\n",
       "      <td>30.000</td>\n",
       "      <td>37.5</td>\n",
       "    </tr>\n",
       "    <tr>\n",
       "      <th>产品设计</th>\n",
       "      <td>15.0</td>\n",
       "      <td>22.866667</td>\n",
       "      <td>7.595738</td>\n",
       "      <td>11.5</td>\n",
       "      <td>17.000</td>\n",
       "      <td>22.5</td>\n",
       "      <td>28.750</td>\n",
       "      <td>37.5</td>\n",
       "    </tr>\n",
       "    <tr>\n",
       "      <th>金融</th>\n",
       "      <td>10.0</td>\n",
       "      <td>22.900000</td>\n",
       "      <td>7.260242</td>\n",
       "      <td>9.0</td>\n",
       "      <td>20.000</td>\n",
       "      <td>22.5</td>\n",
       "      <td>30.000</td>\n",
       "      <td>30.0</td>\n",
       "    </tr>\n",
       "    <tr>\n",
       "      <th>广告营销</th>\n",
       "      <td>9.0</td>\n",
       "      <td>26.333333</td>\n",
       "      <td>7.737894</td>\n",
       "      <td>19.0</td>\n",
       "      <td>19.500</td>\n",
       "      <td>25.0</td>\n",
       "      <td>30.000</td>\n",
       "      <td>37.5</td>\n",
       "    </tr>\n",
       "    <tr>\n",
       "      <th>产品策划</th>\n",
       "      <td>9.0</td>\n",
       "      <td>26.166667</td>\n",
       "      <td>11.908505</td>\n",
       "      <td>11.0</td>\n",
       "      <td>19.500</td>\n",
       "      <td>22.5</td>\n",
       "      <td>30.000</td>\n",
       "      <td>53.0</td>\n",
       "    </tr>\n",
       "    <tr>\n",
       "      <th>教育</th>\n",
       "      <td>7.0</td>\n",
       "      <td>29.714286</td>\n",
       "      <td>4.405084</td>\n",
       "      <td>24.0</td>\n",
       "      <td>27.000</td>\n",
       "      <td>30.0</td>\n",
       "      <td>31.250</td>\n",
       "      <td>37.5</td>\n",
       "    </tr>\n",
       "    <tr>\n",
       "      <th>用户研究</th>\n",
       "      <td>7.0</td>\n",
       "      <td>25.142857</td>\n",
       "      <td>6.368636</td>\n",
       "      <td>16.0</td>\n",
       "      <td>20.000</td>\n",
       "      <td>27.5</td>\n",
       "      <td>30.000</td>\n",
       "      <td>32.5</td>\n",
       "    </tr>\n",
       "    <tr>\n",
       "      <th>云计算</th>\n",
       "      <td>6.0</td>\n",
       "      <td>30.000000</td>\n",
       "      <td>5.000000</td>\n",
       "      <td>22.5</td>\n",
       "      <td>28.125</td>\n",
       "      <td>30.0</td>\n",
       "      <td>31.875</td>\n",
       "      <td>37.5</td>\n",
       "    </tr>\n",
       "    <tr>\n",
       "      <th>移动互联网</th>\n",
       "      <td>6.0</td>\n",
       "      <td>26.166667</td>\n",
       "      <td>6.013873</td>\n",
       "      <td>17.0</td>\n",
       "      <td>22.500</td>\n",
       "      <td>30.0</td>\n",
       "      <td>30.000</td>\n",
       "      <td>30.0</td>\n",
       "    </tr>\n",
       "    <tr>\n",
       "      <th>数据产品</th>\n",
       "      <td>6.0</td>\n",
       "      <td>25.333333</td>\n",
       "      <td>7.494442</td>\n",
       "      <td>12.0</td>\n",
       "      <td>23.125</td>\n",
       "      <td>27.5</td>\n",
       "      <td>30.000</td>\n",
       "      <td>32.5</td>\n",
       "    </tr>\n",
       "    <tr>\n",
       "      <th>社交</th>\n",
       "      <td>6.0</td>\n",
       "      <td>21.333333</td>\n",
       "      <td>3.430258</td>\n",
       "      <td>15.0</td>\n",
       "      <td>20.625</td>\n",
       "      <td>22.5</td>\n",
       "      <td>23.625</td>\n",
       "      <td>24.0</td>\n",
       "    </tr>\n",
       "  </tbody>\n",
       "</table>\n",
       "</div>"
      ],
      "text/plain": [
       "       count       mean        std   min     25%   50%     75%   max\n",
       "job                                                                 \n",
       "大数据     50.0  23.350000   8.197965   9.0  20.000  22.5  29.625  42.5\n",
       "数据分析    35.0  26.314286   7.188722  12.0  22.500  25.0  30.000  42.5\n",
       "电商      33.0  27.484848   8.334309  16.0  22.500  25.0  30.000  50.0\n",
       "数据      17.0  26.764706   5.503174  17.5  22.500  27.5  30.000  40.0\n",
       "产品经理    15.0  29.366667   4.607706  22.5  27.000  30.0  30.000  37.5\n",
       "产品设计    15.0  22.866667   7.595738  11.5  17.000  22.5  28.750  37.5\n",
       "金融      10.0  22.900000   7.260242   9.0  20.000  22.5  30.000  30.0\n",
       "广告营销     9.0  26.333333   7.737894  19.0  19.500  25.0  30.000  37.5\n",
       "产品策划     9.0  26.166667  11.908505  11.0  19.500  22.5  30.000  53.0\n",
       "教育       7.0  29.714286   4.405084  24.0  27.000  30.0  31.250  37.5\n",
       "用户研究     7.0  25.142857   6.368636  16.0  20.000  27.5  30.000  32.5\n",
       "云计算      6.0  30.000000   5.000000  22.5  28.125  30.0  31.875  37.5\n",
       "移动互联网    6.0  26.166667   6.013873  17.0  22.500  30.0  30.000  30.0\n",
       "数据产品     6.0  25.333333   7.494442  12.0  23.125  27.5  30.000  32.5\n",
       "社交       6.0  21.333333   3.430258  15.0  20.625  22.5  23.625  24.0"
      ]
     },
     "execution_count": 290,
     "metadata": {},
     "output_type": "execute_result"
    }
   ],
   "source": [
    "lagou.groupby('job')['wage_avg'].describe().sort_values(['count','mean'], ascending = False).head(15)\n",
    "# 提取数量前15的职位类型\n",
    "top15 = lagou.groupby('job')['wage_avg'].describe().sort_values(['count','mean'], ascending = False).head(15).index"
   ]
  },
  {
   "cell_type": "code",
   "execution_count": 300,
   "metadata": {},
   "outputs": [
    {
     "data": {
      "text/plain": [
       "<AxesSubplot:xlabel='wage_avg', ylabel='job'>"
      ]
     },
     "execution_count": 300,
     "metadata": {},
     "output_type": "execute_result"
    },
    {
     "data": {
      "image/png": "[encoded data removed]",
      "text/plain": [
       "<Figure size 432x288 with 1 Axes>"
      ]
     },
     "metadata": {},
     "output_type": "display_data"
    }
   ],
   "source": [
    "# 绘制平均薪资和职位类型的散点图（only top15 job）\n",
    "sns.scatterplot( x = 'wage_avg', y = 'job', data = lagou[lagou.job.isin(top15)])"
   ]
  },
  {
   "cell_type": "markdown",
   "metadata": {},
   "source": [
    "## 结论"
   ]
  },
  {
   "cell_type": "markdown",
   "metadata": {},
   "source": [
    "我主要收集的是各个公司产品经理这个岗位的信息，从扒取的数据中我得到以下几点结论：\n",
    "- 首先他们的主要工作领域包含大数据、数据分析、电商、产品设计、产品策划、广告营销、金融等，这些都是要成为一个产品经理可能需要具备的条件\n",
    "- 第二，不同公司所属的领域也有区别，其中文娱、电商、教育、数据等都是这些公司主要的业务领域\n",
    "- 第三，北上广深杭拥有巨大的工作机会，特别是北京，超过半数的岗位都在北京，且北京相较于其他城市有更高的平均薪资\n",
    "- 第四，规模越大的企业含有更高的平均薪资和更高的薪资上限，同样，上市公司也拥有更高的平均薪资，所以还是比较推荐到大厂去\n",
    "- 第五，在同等学历下，更多的经验意味着更高的平均薪资，但是如果学历较低，即使有丰富的经验也很难弥补学历的gap\n",
    "\n",
    "这份数据中，我主要已平均薪资作为一个量化标注来衡量一个岗位，在现实中，我们同样还要关注其他方面，比如：公司制度，公司福利，公司理念和发展方向等，很多方面都不能简单的靠数据进行定量分析，而是需要配合现实的定性分析同步进行\n",
    "\n",
    "希望大家都可以找到喜欢的工作"
   ]
  },
  {
   "cell_type": "code",
   "execution_count": null,
   "metadata": {},
   "outputs": [],
   "source": []
  }
 ],
 "metadata": {
  "kernelspec": {
   "display_name": "Python 3",
   "language": "python",
   "name": "python3"
  },
  "language_info": {
   "codemirror_mode": {
    "name": "ipython",
    "version": 3
   },
   "file_extension": ".py",
   "mimetype": "text/x-python",
   "name": "python",
   "nbconvert_exporter": "python",
   "pygments_lexer": "ipython3",
   "version": "3.8.5"
  }
 },
 "nbformat": 4,
 "nbformat_minor": 4
}
